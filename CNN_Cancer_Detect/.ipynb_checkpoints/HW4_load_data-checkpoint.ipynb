{
 "cells": [
  {
   "cell_type": "code",
   "execution_count": 331,
   "id": "thermal-amateur",
   "metadata": {
    "id": "protective-candidate"
   },
   "outputs": [],
   "source": [
    "import numpy as np\n",
    "import pandas as pd\n",
    "from PIL import Image\n",
    "STUDENT_ID = '106062304'"
   ]
  },
  {
   "cell_type": "code",
   "execution_count": 2,
   "id": "appreciated-penetration",
   "metadata": {
    "colab": {
     "base_uri": "https://localhost:8080/"
    },
    "id": "LZw12mq4iafX",
    "outputId": "1c9e22c5-f419-449a-c1e7-99d0e835ccea"
   },
   "outputs": [
    {
     "ename": "ModuleNotFoundError",
     "evalue": "No module named 'google.colab'",
     "output_type": "error",
     "traceback": [
      "\u001b[0;31m---------------------------------------------------------------------------\u001b[0m",
      "\u001b[0;31mModuleNotFoundError\u001b[0m                       Traceback (most recent call last)",
      "\u001b[0;32m<ipython-input-2-d5df0069828e>\u001b[0m in \u001b[0;36m<module>\u001b[0;34m\u001b[0m\n\u001b[0;32m----> 1\u001b[0;31m \u001b[0;32mfrom\u001b[0m \u001b[0mgoogle\u001b[0m\u001b[0;34m.\u001b[0m\u001b[0mcolab\u001b[0m \u001b[0;32mimport\u001b[0m \u001b[0mdrive\u001b[0m\u001b[0;34m\u001b[0m\u001b[0m\n\u001b[0m\u001b[1;32m      2\u001b[0m \u001b[0mdrive\u001b[0m\u001b[0;34m.\u001b[0m\u001b[0mmount\u001b[0m\u001b[0;34m(\u001b[0m\u001b[0;34m'/content/drive'\u001b[0m\u001b[0;34m)\u001b[0m\u001b[0;34m\u001b[0m\u001b[0m\n",
      "\u001b[0;31mModuleNotFoundError\u001b[0m: No module named 'google.colab'"
     ]
    }
   ],
   "source": [
    "from google.colab import drive\n",
    "drive.mount('/content/drive')"
   ]
  },
  {
   "cell_type": "code",
   "execution_count": null,
   "id": "accepted-italic",
   "metadata": {
    "id": "8BzO9-1BiX2Q"
   },
   "outputs": [],
   "source": [
    "!unzip # FILE PATH"
   ]
  },
  {
   "cell_type": "code",
   "execution_count": 209,
   "id": "healthy-filing",
   "metadata": {
    "id": "absent-sauce"
   },
   "outputs": [],
   "source": [
    "X_train = []\n",
    "for i in range(10000):\n",
    "    X_train.append(np.asarray(Image.open(\"HW4_data/public/train_{i}.jpg\".format(i=i))))\n",
    "    \n",
    "df_train = pd.read_csv(\"HW4_data/public/train_label.csv\", index_col=0)"
   ]
  },
  {
   "cell_type": "code",
   "execution_count": 210,
   "id": "51a5b26c",
   "metadata": {},
   "outputs": [
    {
     "data": {
      "text/plain": [
       "(10000, 128, 128)"
      ]
     },
     "execution_count": 210,
     "metadata": {},
     "output_type": "execute_result"
    }
   ],
   "source": [
    "np.shape(X_train)"
   ]
  },
  {
   "cell_type": "code",
   "execution_count": 211,
   "id": "ea56a360",
   "metadata": {},
   "outputs": [],
   "source": [
    "X_train = np.array(X_train)\n",
    "# X_train"
   ]
  },
  {
   "cell_type": "code",
   "execution_count": 212,
   "id": "f79cdae3",
   "metadata": {},
   "outputs": [],
   "source": [
    "X_train = X_train.reshape(10000,128,128,1)"
   ]
  },
  {
   "cell_type": "code",
   "execution_count": 231,
   "id": "4c9f6d23",
   "metadata": {
    "scrolled": true
   },
   "outputs": [
    {
     "data": {
      "text/html": [
       "<div>\n",
       "<style scoped>\n",
       "    .dataframe tbody tr th:only-of-type {\n",
       "        vertical-align: middle;\n",
       "    }\n",
       "\n",
       "    .dataframe tbody tr th {\n",
       "        vertical-align: top;\n",
       "    }\n",
       "\n",
       "    .dataframe thead th {\n",
       "        text-align: right;\n",
       "    }\n",
       "</style>\n",
       "<table border=\"1\" class=\"dataframe\">\n",
       "  <thead>\n",
       "    <tr style=\"text-align: right;\">\n",
       "      <th></th>\n",
       "      <th>Edema</th>\n",
       "    </tr>\n",
       "  </thead>\n",
       "  <tbody>\n",
       "    <tr>\n",
       "      <th>0</th>\n",
       "      <td>0</td>\n",
       "    </tr>\n",
       "    <tr>\n",
       "      <th>1</th>\n",
       "      <td>0</td>\n",
       "    </tr>\n",
       "    <tr>\n",
       "      <th>2</th>\n",
       "      <td>0</td>\n",
       "    </tr>\n",
       "    <tr>\n",
       "      <th>3</th>\n",
       "      <td>1</td>\n",
       "    </tr>\n",
       "    <tr>\n",
       "      <th>4</th>\n",
       "      <td>0</td>\n",
       "    </tr>\n",
       "    <tr>\n",
       "      <th>...</th>\n",
       "      <td>...</td>\n",
       "    </tr>\n",
       "    <tr>\n",
       "      <th>9995</th>\n",
       "      <td>0</td>\n",
       "    </tr>\n",
       "    <tr>\n",
       "      <th>9996</th>\n",
       "      <td>0</td>\n",
       "    </tr>\n",
       "    <tr>\n",
       "      <th>9997</th>\n",
       "      <td>1</td>\n",
       "    </tr>\n",
       "    <tr>\n",
       "      <th>9998</th>\n",
       "      <td>1</td>\n",
       "    </tr>\n",
       "    <tr>\n",
       "      <th>9999</th>\n",
       "      <td>0</td>\n",
       "    </tr>\n",
       "  </tbody>\n",
       "</table>\n",
       "<p>10000 rows × 1 columns</p>\n",
       "</div>"
      ],
      "text/plain": [
       "      Edema\n",
       "0         0\n",
       "1         0\n",
       "2         0\n",
       "3         1\n",
       "4         0\n",
       "...     ...\n",
       "9995      0\n",
       "9996      0\n",
       "9997      1\n",
       "9998      1\n",
       "9999      0\n",
       "\n",
       "[10000 rows x 1 columns]"
      ]
     },
     "execution_count": 231,
     "metadata": {},
     "output_type": "execute_result"
    }
   ],
   "source": [
    "y_train = pd.DataFrame(df_train,columns=['Edema'])\n",
    "y_train"
   ]
  },
  {
   "cell_type": "code",
   "execution_count": 284,
   "id": "bee526ab",
   "metadata": {},
   "outputs": [
    {
     "data": {
      "text/html": [
       "<div>\n",
       "<style scoped>\n",
       "    .dataframe tbody tr th:only-of-type {\n",
       "        vertical-align: middle;\n",
       "    }\n",
       "\n",
       "    .dataframe tbody tr th {\n",
       "        vertical-align: top;\n",
       "    }\n",
       "\n",
       "    .dataframe thead th {\n",
       "        text-align: right;\n",
       "    }\n",
       "</style>\n",
       "<table border=\"1\" class=\"dataframe\">\n",
       "  <thead>\n",
       "    <tr style=\"text-align: right;\">\n",
       "      <th></th>\n",
       "      <th>Atelectasis</th>\n",
       "      <th>Cardiomegaly</th>\n",
       "      <th>Edema</th>\n",
       "      <th>Lung Opacity</th>\n",
       "      <th>No Finding</th>\n",
       "      <th>Pleural Effusion</th>\n",
       "      <th>Support Devices</th>\n",
       "    </tr>\n",
       "  </thead>\n",
       "  <tbody>\n",
       "    <tr>\n",
       "      <th>0</th>\n",
       "      <td>0</td>\n",
       "      <td>0</td>\n",
       "      <td>0</td>\n",
       "      <td>0</td>\n",
       "      <td>1</td>\n",
       "      <td>0</td>\n",
       "      <td>1</td>\n",
       "    </tr>\n",
       "    <tr>\n",
       "      <th>1</th>\n",
       "      <td>0</td>\n",
       "      <td>0</td>\n",
       "      <td>0</td>\n",
       "      <td>0</td>\n",
       "      <td>1</td>\n",
       "      <td>0</td>\n",
       "      <td>1</td>\n",
       "    </tr>\n",
       "    <tr>\n",
       "      <th>2</th>\n",
       "      <td>0</td>\n",
       "      <td>0</td>\n",
       "      <td>0</td>\n",
       "      <td>0</td>\n",
       "      <td>1</td>\n",
       "      <td>0</td>\n",
       "      <td>1</td>\n",
       "    </tr>\n",
       "    <tr>\n",
       "      <th>3</th>\n",
       "      <td>0</td>\n",
       "      <td>1</td>\n",
       "      <td>1</td>\n",
       "      <td>0</td>\n",
       "      <td>0</td>\n",
       "      <td>0</td>\n",
       "      <td>0</td>\n",
       "    </tr>\n",
       "    <tr>\n",
       "      <th>4</th>\n",
       "      <td>0</td>\n",
       "      <td>0</td>\n",
       "      <td>0</td>\n",
       "      <td>0</td>\n",
       "      <td>1</td>\n",
       "      <td>0</td>\n",
       "      <td>0</td>\n",
       "    </tr>\n",
       "    <tr>\n",
       "      <th>...</th>\n",
       "      <td>...</td>\n",
       "      <td>...</td>\n",
       "      <td>...</td>\n",
       "      <td>...</td>\n",
       "      <td>...</td>\n",
       "      <td>...</td>\n",
       "      <td>...</td>\n",
       "    </tr>\n",
       "    <tr>\n",
       "      <th>9995</th>\n",
       "      <td>0</td>\n",
       "      <td>0</td>\n",
       "      <td>0</td>\n",
       "      <td>0</td>\n",
       "      <td>1</td>\n",
       "      <td>0</td>\n",
       "      <td>0</td>\n",
       "    </tr>\n",
       "    <tr>\n",
       "      <th>9996</th>\n",
       "      <td>0</td>\n",
       "      <td>0</td>\n",
       "      <td>0</td>\n",
       "      <td>0</td>\n",
       "      <td>1</td>\n",
       "      <td>0</td>\n",
       "      <td>0</td>\n",
       "    </tr>\n",
       "    <tr>\n",
       "      <th>9997</th>\n",
       "      <td>1</td>\n",
       "      <td>0</td>\n",
       "      <td>1</td>\n",
       "      <td>1</td>\n",
       "      <td>0</td>\n",
       "      <td>1</td>\n",
       "      <td>0</td>\n",
       "    </tr>\n",
       "    <tr>\n",
       "      <th>9998</th>\n",
       "      <td>0</td>\n",
       "      <td>0</td>\n",
       "      <td>1</td>\n",
       "      <td>0</td>\n",
       "      <td>0</td>\n",
       "      <td>0</td>\n",
       "      <td>0</td>\n",
       "    </tr>\n",
       "    <tr>\n",
       "      <th>9999</th>\n",
       "      <td>0</td>\n",
       "      <td>0</td>\n",
       "      <td>0</td>\n",
       "      <td>0</td>\n",
       "      <td>1</td>\n",
       "      <td>0</td>\n",
       "      <td>0</td>\n",
       "    </tr>\n",
       "  </tbody>\n",
       "</table>\n",
       "<p>10000 rows × 7 columns</p>\n",
       "</div>"
      ],
      "text/plain": [
       "      Atelectasis  Cardiomegaly  Edema  Lung Opacity  No Finding  \\\n",
       "0               0             0      0             0           1   \n",
       "1               0             0      0             0           1   \n",
       "2               0             0      0             0           1   \n",
       "3               0             1      1             0           0   \n",
       "4               0             0      0             0           1   \n",
       "...           ...           ...    ...           ...         ...   \n",
       "9995            0             0      0             0           1   \n",
       "9996            0             0      0             0           1   \n",
       "9997            1             0      1             1           0   \n",
       "9998            0             0      1             0           0   \n",
       "9999            0             0      0             0           1   \n",
       "\n",
       "      Pleural Effusion  Support Devices  \n",
       "0                    0                1  \n",
       "1                    0                1  \n",
       "2                    0                1  \n",
       "3                    0                0  \n",
       "4                    0                0  \n",
       "...                ...              ...  \n",
       "9995                 0                0  \n",
       "9996                 0                0  \n",
       "9997                 1                0  \n",
       "9998                 0                0  \n",
       "9999                 0                0  \n",
       "\n",
       "[10000 rows x 7 columns]"
      ]
     },
     "execution_count": 284,
     "metadata": {},
     "output_type": "execute_result"
    }
   ],
   "source": [
    "y_train2 = pd.DataFrame(df_train,columns=['Atelectasis','Cardiomegaly','Edema','Lung Opacity','No Finding','Pleural Effusion','Support Devices'])\n",
    "y_train2"
   ]
  },
  {
   "cell_type": "code",
   "execution_count": 232,
   "id": "f6cf73f9",
   "metadata": {},
   "outputs": [
    {
     "data": {
      "text/plain": [
       "(10000, 1)"
      ]
     },
     "execution_count": 232,
     "metadata": {},
     "output_type": "execute_result"
    }
   ],
   "source": [
    "y_train = np.array(y_train)\n",
    "y_train.shape"
   ]
  },
  {
   "cell_type": "code",
   "execution_count": 285,
   "id": "ae29ea7f",
   "metadata": {},
   "outputs": [
    {
     "data": {
      "text/plain": [
       "(10000, 7)"
      ]
     },
     "execution_count": 285,
     "metadata": {},
     "output_type": "execute_result"
    }
   ],
   "source": [
    "y_train2 = np.array(y_train2)\n",
    "y_train2.shape"
   ]
  },
  {
   "cell_type": "code",
   "execution_count": 215,
   "id": "ed2482ce",
   "metadata": {},
   "outputs": [],
   "source": [
    "import numpy as np\n",
    "from keras.models import Sequential\n",
    "from keras.layers import Dense\n",
    "from keras.layers import Flatten\n",
    "from keras.layers import Conv2D\n",
    "from keras.layers import MaxPooling2D\n",
    "from keras.layers import Dropout\n",
    "from tensorflow.keras.utils import to_categorical\n",
    "\n",
    "seed = 10\n",
    "np.random.seed(seed)"
   ]
  },
  {
   "cell_type": "code",
   "execution_count": 216,
   "id": "dc98271c",
   "metadata": {},
   "outputs": [],
   "source": [
    "model = Sequential()\n",
    "model.add(Conv2D(16, kernel_size=(3,3), padding=\"same\",\n",
    "                 input_shape = (128,128,1), activation = \"relu\"))\n",
    "model.add(MaxPooling2D())\n",
    "model.add(Dropout(0.25))\n",
    "model.add(Conv2D(32, 3, padding=\"same\", activation=\"relu\"))\n",
    "model.add(MaxPooling2D())\n",
    "model.add(Dropout(0.25))\n",
    "model.add(Conv2D(64, 3, padding=\"same\", activation=\"relu\"))\n",
    "model.add(MaxPooling2D())\n",
    "model.add(Dropout(0.25))\n",
    "model.add(Flatten())\n",
    "model.add(Dense(128, activation=\"relu\"))\n",
    "model.add(Dense(1, activation=\"sigmoid\"))\n",
    "# model.add(Dense(1, activation=\"relu\"))\n",
    "# model.add(Dropout(0.5))\n",
    "# model.add(Dense(1, activation=\"softmax\"))"
   ]
  },
  {
   "cell_type": "code",
   "execution_count": 217,
   "id": "e355a5be",
   "metadata": {},
   "outputs": [
    {
     "name": "stdout",
     "output_type": "stream",
     "text": [
      "Model: \"sequential_19\"\n",
      "_________________________________________________________________\n",
      "Layer (type)                 Output Shape              Param #   \n",
      "=================================================================\n",
      "conv2d_52 (Conv2D)           (None, 128, 128, 16)      160       \n",
      "_________________________________________________________________\n",
      "max_pooling2d_52 (MaxPooling (None, 64, 64, 16)        0         \n",
      "_________________________________________________________________\n",
      "dropout_54 (Dropout)         (None, 64, 64, 16)        0         \n",
      "_________________________________________________________________\n",
      "conv2d_53 (Conv2D)           (None, 64, 64, 32)        4640      \n",
      "_________________________________________________________________\n",
      "max_pooling2d_53 (MaxPooling (None, 32, 32, 32)        0         \n",
      "_________________________________________________________________\n",
      "dropout_55 (Dropout)         (None, 32, 32, 32)        0         \n",
      "_________________________________________________________________\n",
      "conv2d_54 (Conv2D)           (None, 32, 32, 64)        18496     \n",
      "_________________________________________________________________\n",
      "max_pooling2d_54 (MaxPooling (None, 16, 16, 64)        0         \n",
      "_________________________________________________________________\n",
      "dropout_56 (Dropout)         (None, 16, 16, 64)        0         \n",
      "_________________________________________________________________\n",
      "flatten_18 (Flatten)         (None, 16384)             0         \n",
      "_________________________________________________________________\n",
      "dense_32 (Dense)             (None, 128)               2097280   \n",
      "_________________________________________________________________\n",
      "dense_33 (Dense)             (None, 1)                 129       \n",
      "=================================================================\n",
      "Total params: 2,120,705\n",
      "Trainable params: 2,120,705\n",
      "Non-trainable params: 0\n",
      "_________________________________________________________________\n"
     ]
    }
   ],
   "source": [
    "model.summary()"
   ]
  },
  {
   "cell_type": "code",
   "execution_count": 218,
   "id": "0931aa8b",
   "metadata": {},
   "outputs": [],
   "source": [
    "import tensorflow as tf\n",
    "model.compile(optimizer='adam',\n",
    "              loss='binary_crossentropy',\n",
    "              metrics=['accuracy'])"
   ]
  },
  {
   "cell_type": "code",
   "execution_count": 337,
   "id": "9e01df3d",
   "metadata": {},
   "outputs": [
    {
     "name": "stdout",
     "output_type": "stream",
     "text": [
      "Model: \"sequential_24\"\n",
      "_________________________________________________________________\n",
      "Layer (type)                 Output Shape              Param #   \n",
      "=================================================================\n",
      "conv2d_67 (Conv2D)           (None, 128, 128, 16)      160       \n",
      "_________________________________________________________________\n",
      "max_pooling2d_67 (MaxPooling (None, 64, 64, 16)        0         \n",
      "_________________________________________________________________\n",
      "dropout_69 (Dropout)         (None, 64, 64, 16)        0         \n",
      "_________________________________________________________________\n",
      "conv2d_68 (Conv2D)           (None, 64, 64, 32)        4640      \n",
      "_________________________________________________________________\n",
      "max_pooling2d_68 (MaxPooling (None, 32, 32, 32)        0         \n",
      "_________________________________________________________________\n",
      "dropout_70 (Dropout)         (None, 32, 32, 32)        0         \n",
      "_________________________________________________________________\n",
      "conv2d_69 (Conv2D)           (None, 32, 32, 64)        18496     \n",
      "_________________________________________________________________\n",
      "max_pooling2d_69 (MaxPooling (None, 16, 16, 64)        0         \n",
      "_________________________________________________________________\n",
      "dropout_71 (Dropout)         (None, 16, 16, 64)        0         \n",
      "_________________________________________________________________\n",
      "flatten_23 (Flatten)         (None, 16384)             0         \n",
      "_________________________________________________________________\n",
      "dense_42 (Dense)             (None, 128)               2097280   \n",
      "_________________________________________________________________\n",
      "dense_43 (Dense)             (None, 7)                 903       \n",
      "=================================================================\n",
      "Total params: 2,121,479\n",
      "Trainable params: 2,121,479\n",
      "Non-trainable params: 0\n",
      "_________________________________________________________________\n"
     ]
    }
   ],
   "source": [
    "model2 = Sequential()\n",
    "model2.add(Conv2D(16, kernel_size=(3,3), padding=\"same\",\n",
    "                 input_shape = (128,128,1), activation = \"relu\"))\n",
    "model2.add(MaxPooling2D())\n",
    "model2.add(Dropout(0.25))\n",
    "model2.add(Conv2D(32, 3, padding=\"same\", activation=\"relu\"))\n",
    "model2.add(MaxPooling2D())\n",
    "model2.add(Dropout(0.25))\n",
    "model2.add(Conv2D(64, 3, padding=\"same\", activation=\"relu\"))\n",
    "model2.add(MaxPooling2D())\n",
    "model2.add(Dropout(0.25))\n",
    "model2.add(Flatten())\n",
    "model2.add(Dense(128, activation=\"relu\"))\n",
    "model2.add(Dense(7, activation=\"sigmoid\"))\n",
    "model2.summary()"
   ]
  },
  {
   "cell_type": "code",
   "execution_count": 338,
   "id": "3dba615e",
   "metadata": {},
   "outputs": [],
   "source": [
    "import tensorflow as tf\n",
    "model2.compile(optimizer='adam',\n",
    "              loss='binary_crossentropy',\n",
    "              metrics=['accuracy'])"
   ]
  },
  {
   "cell_type": "code",
   "execution_count": 306,
   "id": "c5bbb92c",
   "metadata": {},
   "outputs": [],
   "source": [
    "ate = pd.DataFrame(df_train,columns=['Atelectasis'])\n",
    "car = pd.DataFrame(df_train,columns=['Cardiomegaly'])\n",
    "lun = pd.DataFrame(df_train,columns=['Lung Opacity'])\n",
    "no = pd.DataFrame(df_train,columns=['No Finding'])\n",
    "ple = pd.DataFrame(df_train,columns=['Pleural Effusion'])\n",
    "sup = pd.DataFrame(df_train,columns=['Support Devices'])"
   ]
  },
  {
   "cell_type": "code",
   "execution_count": 309,
   "id": "d7018ac1",
   "metadata": {},
   "outputs": [],
   "source": [
    "ate = np.array(ate)\n",
    "car = np.array(car)\n",
    "lun = np.array(lun)\n",
    "no = np.array(no)\n",
    "ple = np.array(ple)\n",
    "sup = np.array(sup)"
   ]
  },
  {
   "cell_type": "code",
   "execution_count": 307,
   "id": "85f46db9",
   "metadata": {},
   "outputs": [
    {
     "data": {
      "text/plain": [
       "(10000, 1)"
      ]
     },
     "execution_count": 307,
     "metadata": {},
     "output_type": "execute_result"
    }
   ],
   "source": [
    "ate.shape"
   ]
  },
  {
   "cell_type": "code",
   "execution_count": 233,
   "id": "21150d73",
   "metadata": {},
   "outputs": [
    {
     "data": {
      "text/plain": [
       "(10000, 1)"
      ]
     },
     "execution_count": 233,
     "metadata": {},
     "output_type": "execute_result"
    }
   ],
   "source": [
    "y_train.shape"
   ]
  },
  {
   "cell_type": "code",
   "execution_count": 234,
   "id": "45ad71e2",
   "metadata": {},
   "outputs": [],
   "source": [
    "y_train = y_train.reshape((-1,1))"
   ]
  },
  {
   "cell_type": "code",
   "execution_count": 310,
   "id": "37d9b5c7",
   "metadata": {},
   "outputs": [],
   "source": [
    "ate = ate.reshape((-1,1))\n",
    "car = car.reshape((-1,1))\n",
    "lun = lun.reshape((-1,1))\n",
    "no = no.reshape((-1,1))\n",
    "ple = ple.reshape((-1,1))\n",
    "sup = sup.reshape((-1,1))"
   ]
  },
  {
   "cell_type": "code",
   "execution_count": 238,
   "id": "66bbb6cb",
   "metadata": {},
   "outputs": [
    {
     "data": {
      "text/plain": [
       "(10000, 1)"
      ]
     },
     "execution_count": 238,
     "metadata": {},
     "output_type": "execute_result"
    }
   ],
   "source": [
    "y_train.shape"
   ]
  },
  {
   "cell_type": "code",
   "execution_count": 236,
   "id": "518b04a9",
   "metadata": {},
   "outputs": [
    {
     "name": "stdout",
     "output_type": "stream",
     "text": [
      "WARNING:tensorflow:From <ipython-input-236-4747abab1a01>:1: experimental_run_functions_eagerly (from tensorflow.python.eager.def_function) is deprecated and will be removed in a future version.\n",
      "Instructions for updating:\n",
      "Use `tf.config.run_functions_eagerly` instead of the experimental version.\n"
     ]
    },
    {
     "name": "stderr",
     "output_type": "stream",
     "text": [
      "WARNING:tensorflow:From <ipython-input-236-4747abab1a01>:1: experimental_run_functions_eagerly (from tensorflow.python.eager.def_function) is deprecated and will be removed in a future version.\n",
      "Instructions for updating:\n",
      "Use `tf.config.run_functions_eagerly` instead of the experimental version.\n",
      "/Library/Frameworks/Python.framework/Versions/3.6/lib/python3.6/site-packages/tensorflow/python/data/ops/dataset_ops.py:4212: UserWarning: Even though the `tf.config.experimental_run_functions_eagerly` option is set, this option does not apply to tf.data functions. To force eager execution of tf.data functions, please use `tf.data.experimental.enable_debug_mode()`.\n",
      "  \"Even though the `tf.config.experimental_run_functions_eagerly` \"\n"
     ]
    },
    {
     "name": "stdout",
     "output_type": "stream",
     "text": [
      "Epoch 1/10\n",
      "250/250 [==============================] - 77s 308ms/step - loss: 4.6826 - accuracy: 0.7066 - val_loss: 0.5498 - val_accuracy: 0.7320\n",
      "Epoch 2/10\n",
      "250/250 [==============================] - 86s 346ms/step - loss: 0.4929 - accuracy: 0.7494 - val_loss: 0.5580 - val_accuracy: 0.7555\n",
      "Epoch 3/10\n",
      "250/250 [==============================] - 82s 329ms/step - loss: 0.4758 - accuracy: 0.7630 - val_loss: 0.5596 - val_accuracy: 0.7450\n",
      "Epoch 4/10\n",
      "250/250 [==============================] - 72s 289ms/step - loss: 0.4633 - accuracy: 0.7695 - val_loss: 0.5199 - val_accuracy: 0.7805\n",
      "Epoch 5/10\n",
      "250/250 [==============================] - 71s 282ms/step - loss: 0.4496 - accuracy: 0.7721 - val_loss: 0.5211 - val_accuracy: 0.7735\n",
      "Epoch 6/10\n",
      "250/250 [==============================] - 73s 291ms/step - loss: 0.4334 - accuracy: 0.7881 - val_loss: 0.4867 - val_accuracy: 0.7695\n",
      "Epoch 7/10\n",
      "250/250 [==============================] - 82s 326ms/step - loss: 0.4362 - accuracy: 0.7822 - val_loss: 0.5043 - val_accuracy: 0.7880\n",
      "Epoch 8/10\n",
      "250/250 [==============================] - 81s 324ms/step - loss: 0.4210 - accuracy: 0.7969 - val_loss: 0.5028 - val_accuracy: 0.7760\n",
      "Epoch 9/10\n",
      "250/250 [==============================] - 80s 318ms/step - loss: 0.4113 - accuracy: 0.8014 - val_loss: 0.4921 - val_accuracy: 0.7830\n",
      "Epoch 10/10\n",
      "250/250 [==============================] - 108s 434ms/step - loss: 0.4011 - accuracy: 0.8106 - val_loss: 0.4501 - val_accuracy: 0.7900\n"
     ]
    }
   ],
   "source": [
    "tf.config.experimental_run_functions_eagerly(True)\n",
    "history = model.fit(\n",
    "  x=X_train,\n",
    "  y=y_train,\n",
    "  validation_split=0.2,\n",
    "  epochs=10\n",
    ")"
   ]
  },
  {
   "cell_type": "code",
   "execution_count": 318,
   "id": "killing-final",
   "metadata": {
    "id": "corrected-genius"
   },
   "outputs": [],
   "source": [
    "X_test = []\n",
    "for i in range(1500):\n",
    "    X_test.append(np.asarray(Image.open(\"HW4_data/private/test_{i}.jpg\".format(i=i))))\n",
    "\n",
    "df_test_demo = pd.read_csv(\"HW4_data/private/test_demo.csv\", index_col=0)"
   ]
  },
  {
   "cell_type": "code",
   "execution_count": 360,
   "id": "73d29d52",
   "metadata": {},
   "outputs": [
    {
     "data": {
      "text/plain": [
       "(1500, 2)"
      ]
     },
     "execution_count": 360,
     "metadata": {},
     "output_type": "execute_result"
    }
   ],
   "source": [
    "df_test_demo.shape"
   ]
  },
  {
   "cell_type": "code",
   "execution_count": 319,
   "id": "804b4d82",
   "metadata": {},
   "outputs": [],
   "source": [
    "X_test = np.array(X_test)\n",
    "X_test = X_test.reshape(1500,128,128,1)"
   ]
  },
  {
   "cell_type": "code",
   "execution_count": 320,
   "id": "57209b33",
   "metadata": {},
   "outputs": [],
   "source": [
    "X_val = []\n",
    "for i in range(1000):\n",
    "    X_val.append(np.asarray(Image.open(\"HW4_data/public/val_{i}.jpg\".format(i=i))))\n",
    "    \n",
    "df_val = pd.read_csv(\"HW4_data/public/val_label.csv\", index_col=0)"
   ]
  },
  {
   "cell_type": "code",
   "execution_count": 324,
   "id": "06eac3dd",
   "metadata": {},
   "outputs": [],
   "source": [
    "X_val = np.array(X_val)\n",
    "X_val = X_val.reshape(1000,128,128,1)"
   ]
  },
  {
   "cell_type": "code",
   "execution_count": 325,
   "id": "bc54ea34",
   "metadata": {},
   "outputs": [],
   "source": [
    "ateval = pd.DataFrame(df_val,columns=['Atelectasis'])\n",
    "ateval = np.array(ateval)\n",
    "carval = pd.DataFrame(df_val,columns=['Cardiomegaly'])\n",
    "carval = np.array(carval)\n",
    "lunval = pd.DataFrame(df_val,columns=['Lung Opacity'])\n",
    "lunval = np.array(lunval)\n",
    "noval = pd.DataFrame(df_val,columns=['No Finding'])\n",
    "noval = np.array(noval)\n",
    "pleval = pd.DataFrame(df_val,columns=['Pleural Effusion'])\n",
    "pleval = np.array(pleval)\n",
    "supval = pd.DataFrame(df_val,columns=['Support Devices'])\n",
    "supval = np.array(supval)"
   ]
  },
  {
   "cell_type": "code",
   "execution_count": 334,
   "id": "c8ba1190",
   "metadata": {},
   "outputs": [
    {
     "name": "stdout",
     "output_type": "stream",
     "text": [
      "Epoch 1/10\n",
      "250/250 [==============================] - 102s 409ms/step - loss: 0.1471 - accuracy: 0.9442 - val_loss: 0.2339 - val_accuracy: 0.9230\n",
      "Epoch 2/10\n",
      "250/250 [==============================] - 124s 497ms/step - loss: 0.1394 - accuracy: 0.9509 - val_loss: 0.2415 - val_accuracy: 0.9205\n",
      "Epoch 3/10\n",
      "250/250 [==============================] - 140s 559ms/step - loss: 0.1302 - accuracy: 0.9545 - val_loss: 0.2376 - val_accuracy: 0.9225\n",
      "Epoch 4/10\n",
      "250/250 [==============================] - 91s 363ms/step - loss: 0.1177 - accuracy: 0.9555 - val_loss: 0.2499 - val_accuracy: 0.9205\n",
      "Epoch 5/10\n",
      "250/250 [==============================] - 73s 293ms/step - loss: 0.1086 - accuracy: 0.9603 - val_loss: 0.2439 - val_accuracy: 0.9195\n",
      "Epoch 6/10\n",
      "250/250 [==============================] - 72s 287ms/step - loss: 0.1005 - accuracy: 0.9644 - val_loss: 0.2651 - val_accuracy: 0.9220\n",
      "Epoch 7/10\n",
      "250/250 [==============================] - 73s 291ms/step - loss: 0.0916 - accuracy: 0.9685 - val_loss: 0.2765 - val_accuracy: 0.9215\n",
      "Epoch 8/10\n",
      "250/250 [==============================] - 73s 294ms/step - loss: 0.0850 - accuracy: 0.9718 - val_loss: 0.2421 - val_accuracy: 0.9195\n",
      "Epoch 9/10\n",
      "250/250 [==============================] - 72s 287ms/step - loss: 0.0743 - accuracy: 0.9741 - val_loss: 0.2815 - val_accuracy: 0.9205\n",
      "Epoch 10/10\n",
      "250/250 [==============================] - 84s 335ms/step - loss: 0.0670 - accuracy: 0.9760 - val_loss: 0.2704 - val_accuracy: 0.9170\n",
      "313/313 [==============================] - 28s 89ms/step - loss: 0.0905 - accuracy: 0.9763\n",
      "Training set accuracy: 0.9763000011444092\n",
      "32/32 [==============================] - 3s 94ms/step - loss: 0.2603 - accuracy: 0.9280\n",
      "Testing set accuracy 0.9279999732971191\n",
      "Test:\n",
      "Loss: 0.2603433430194855\n",
      "Accuracy: 0.9279999732971191\n",
      "[[0.03180027]\n",
      " [0.05438486]\n",
      " [0.00059348]\n",
      " ...\n",
      " [0.00027788]\n",
      " [0.00839627]\n",
      " [0.02341774]]\n"
     ]
    },
    {
     "data": {
      "text/plain": [
       "array([0, 0, 0, ..., 0, 0, 0])"
      ]
     },
     "execution_count": 334,
     "metadata": {},
     "output_type": "execute_result"
    }
   ],
   "source": [
    "from keras import models \n",
    "from keras.models import load_model\n",
    "tf.config.experimental_run_functions_eagerly(True)\n",
    "history = model.fit(\n",
    "  x=X_train,\n",
    "  y=ate,\n",
    "  validation_split=0.2,\n",
    "  epochs=10\n",
    ")\n",
    "# Test\n",
    "loss, accuracy = model.evaluate(X_train, ate)\n",
    "print(\"Training set accuracy:\",accuracy)\n",
    "loss, accuracy = model.evaluate(X_val,ateval)\n",
    "print(\"Testing set accuracy\",accuracy)\n",
    "\n",
    "print('Test:')\n",
    "print('Loss: %s\\nAccuracy: %s' % (loss, accuracy))\n",
    "\n",
    "# # Save model\n",
    "# model.save('./ate.h5')\n",
    "\n",
    "# # Load Model\n",
    "# ate_mod = load_model('./ate.h5')\n",
    "\n",
    "ate_pre =  model.predict(X_test)\n",
    "print(ate_pre)\n",
    "\n",
    "ate_ans = []\n",
    "for i in ate_pre:\n",
    "    if(i<0.5):\n",
    "        ate_ans.append(0)\n",
    "    else:\n",
    "        ate_ans.append(1)\n",
    "ate_ans = np.array(ate_ans)\n",
    "ate_ans"
   ]
  },
  {
   "cell_type": "code",
   "execution_count": 336,
   "id": "0c477e32",
   "metadata": {},
   "outputs": [
    {
     "name": "stdout",
     "output_type": "stream",
     "text": [
      "Epoch 1/10\n",
      "250/250 [==============================] - 78s 308ms/step - loss: 0.3417 - accuracy: 0.8830 - val_loss: 0.3454 - val_accuracy: 0.8765\n",
      "Epoch 2/10\n",
      "250/250 [==============================] - 116s 460ms/step - loss: 0.2914 - accuracy: 0.8885 - val_loss: 0.3324 - val_accuracy: 0.8765\n",
      "Epoch 3/10\n",
      "250/250 [==============================] - 89s 357ms/step - loss: 0.2764 - accuracy: 0.8949 - val_loss: 0.3236 - val_accuracy: 0.8775\n",
      "Epoch 4/10\n",
      "250/250 [==============================] - 69s 275ms/step - loss: 0.2610 - accuracy: 0.8990 - val_loss: 0.3191 - val_accuracy: 0.8765\n",
      "Epoch 5/10\n",
      "250/250 [==============================] - 73s 293ms/step - loss: 0.2525 - accuracy: 0.9043 - val_loss: 0.3197 - val_accuracy: 0.8765\n",
      "Epoch 6/10\n",
      "250/250 [==============================] - 94s 378ms/step - loss: 0.2456 - accuracy: 0.9032 - val_loss: 0.3150 - val_accuracy: 0.8770\n",
      "Epoch 7/10\n",
      "250/250 [==============================] - 153s 614ms/step - loss: 0.2322 - accuracy: 0.9101 - val_loss: 0.3138 - val_accuracy: 0.8780\n",
      "Epoch 8/10\n",
      "250/250 [==============================] - 87s 348ms/step - loss: 0.2197 - accuracy: 0.9128 - val_loss: 0.3216 - val_accuracy: 0.8755\n",
      "Epoch 9/10\n",
      "250/250 [==============================] - 91s 365ms/step - loss: 0.2066 - accuracy: 0.9224 - val_loss: 0.3230 - val_accuracy: 0.8755\n",
      "Epoch 10/10\n",
      "250/250 [==============================] - 75s 301ms/step - loss: 0.2039 - accuracy: 0.9201 - val_loss: 0.3222 - val_accuracy: 0.8760\n",
      "313/313 [==============================] - 27s 85ms/step - loss: 0.2063 - accuracy: 0.9199\n",
      "Training set accuracy: 0.9199000000953674\n",
      "32/32 [==============================] - 3s 89ms/step - loss: 0.3027 - accuracy: 0.8850\n",
      "Testing set accuracy 0.8849999904632568\n",
      "Test:\n",
      "Loss: 0.30266663432121277\n",
      "Accuracy: 0.8849999904632568\n",
      "[[0.0125922 ]\n",
      " [0.06002888]\n",
      " [0.0149191 ]\n",
      " ...\n",
      " [0.01344699]\n",
      " [0.02468133]\n",
      " [0.13115245]]\n"
     ]
    },
    {
     "data": {
      "text/plain": [
       "array([0, 0, 0, ..., 0, 0, 0])"
      ]
     },
     "execution_count": 336,
     "metadata": {},
     "output_type": "execute_result"
    }
   ],
   "source": [
    "tf.config.experimental_run_functions_eagerly(True)\n",
    "history = model.fit(\n",
    "  x=X_train,\n",
    "  y=car,\n",
    "  validation_split=0.2,\n",
    "  epochs=10\n",
    ")\n",
    "# Test\n",
    "loss, accuracy = model.evaluate(X_train, car)\n",
    "print(\"Training set accuracy:\",accuracy)\n",
    "loss, accuracy = model.evaluate(X_val,carval)\n",
    "print(\"Testing set accuracy\",accuracy)\n",
    "\n",
    "print('Test:')\n",
    "print('Loss: %s\\nAccuracy: %s' % (loss, accuracy))\n",
    "\n",
    "# Save model\n",
    "model.save('./car.h5')\n",
    "\n",
    "# Load Model\n",
    "car_mod = load_model('./car.h5')\n",
    "\n",
    "car_pre = car_mod.predict(X_test)\n",
    "print(car_pre)\n",
    "\n",
    "car_ans = []\n",
    "for i in car_pre:\n",
    "    if(i<0.5):\n",
    "        car_ans.append(0)\n",
    "    else:\n",
    "        car_ans.append(1)\n",
    "car_ans = np.array(car_ans)\n",
    "car_ans"
   ]
  },
  {
   "cell_type": "code",
   "execution_count": null,
   "id": "2365560c",
   "metadata": {},
   "outputs": [],
   "source": [
    "tf.config.experimental_run_functions_eagerly(True)\n",
    "history = model.fit(\n",
    "  x=X_train,\n",
    "  y=lun,\n",
    "  validation_split=0.2,\n",
    "  epochs=10\n",
    ")\n",
    "# Test\n",
    "loss, accuracy = model.evaluate(X_train, lun)\n",
    "print(\"Training set accuracy:\",accuracy)\n",
    "loss, accuracy = model.evaluate(X_val,lunval)\n",
    "print(\"Testing set accuracy\",accuracy)\n",
    "\n",
    "print('Test:')\n",
    "print('Loss: %s\\nAccuracy: %s' % (loss, accuracy))\n",
    "\n",
    "# Save model\n",
    "model.save('./lun.h5')\n",
    "\n",
    "# Load Model\n",
    "lun_mod = load_model('./lun.h5')\n",
    "\n",
    "lun_pre = lun_mod.predict(X_test)\n",
    "print(lun_pre)\n",
    "\n",
    "lun_ans = np.where(lun_pre >= 0.5 , 1 , 0)\n",
    "print(lun_ans)"
   ]
  },
  {
   "cell_type": "code",
   "execution_count": null,
   "id": "9f5acf0c",
   "metadata": {},
   "outputs": [],
   "source": [
    "tf.config.experimental_run_functions_eagerly(True)\n",
    "history = model.fit(\n",
    "  x=X_train,\n",
    "  y=no,\n",
    "  validation_split=0.2,\n",
    "  epochs=10\n",
    ")\n",
    "# Test\n",
    "loss, accuracy = model.evaluate(X_train, no)\n",
    "print(\"Training set accuracy:\",accuracy)\n",
    "loss, accuracy = model.evaluate(X_val,noval)\n",
    "print(\"Testing set accuracy\",accuracy)\n",
    "\n",
    "print('Test:')\n",
    "print('Loss: %s\\nAccuracy: %s' % (loss, accuracy))\n",
    "\n",
    "# Save model\n",
    "model.save('./no.h5')\n",
    "\n",
    "# Load Model\n",
    "no_mod = load_model('./no.h5')\n",
    "\n",
    "no_pre = no_mod.predict(X_test)\n",
    "print(no_pre)\n",
    "\n",
    "no_ans = np.where(no_pre >= 0.5 , 1 , 0)\n",
    "print(no_ans)"
   ]
  },
  {
   "cell_type": "code",
   "execution_count": null,
   "id": "c8741d0c",
   "metadata": {},
   "outputs": [],
   "source": [
    "tf.config.experimental_run_functions_eagerly(True)\n",
    "history = model.fit(\n",
    "  x=X_train,\n",
    "  y=ple,\n",
    "  validation_split=0.2,\n",
    "  epochs=10\n",
    ")\n",
    "# Test\n",
    "loss, accuracy = model.evaluate(X_train, ple)\n",
    "print(\"Training set accuracy:\",accuracy)\n",
    "loss, accuracy = model.evaluate(X_val,pleval)\n",
    "print(\"Testing set accuracy\",accuracy)\n",
    "\n",
    "print('Test:')\n",
    "print('Loss: %s\\nAccuracy: %s' % (loss, accuracy))\n",
    "\n",
    "# Save model\n",
    "model.save('./ple.h5')\n",
    "\n",
    "# Load Model\n",
    "ple_mod = load_model('./ple.h5')\n",
    "\n",
    "ple_pre = ple_mod.predict(X_test)\n",
    "print(ple_pre)\n",
    "\n",
    "ple_ans = np.where(ple_pre >= 0.5 , 1 , 0)\n",
    "print(ple_ans)"
   ]
  },
  {
   "cell_type": "code",
   "execution_count": null,
   "id": "f35795b1",
   "metadata": {},
   "outputs": [],
   "source": [
    "tf.config.experimental_run_functions_eagerly(True)\n",
    "history = model.fit(\n",
    "  x=X_train,\n",
    "  y=sup,\n",
    "  validation_split=0.2,\n",
    "  epochs=10\n",
    ")\n",
    "# Test\n",
    "loss, accuracy = model.evaluate(X_train, sup)\n",
    "print(\"Training set accuracy:\",accuracy)\n",
    "loss, accuracy = model.evaluate(X_val,supval)\n",
    "print(\"Testing set accuracy\",accuracy)\n",
    "\n",
    "print('Test:')\n",
    "print('Loss: %s\\nAccuracy: %s' % (loss, accuracy))\n",
    "\n",
    "# Save model\n",
    "model.save('./sup.h5')\n",
    "\n",
    "# Load Model\n",
    "sup_mod = load_model('./sup.h5')\n",
    "\n",
    "sup_pre = sup_mod.predict(X_test)\n",
    "print(sup_pre)\n",
    "\n",
    "sup_ans = np.where(sup_pre >= 0.5 , 1 , 0)\n",
    "print(sup_ans)"
   ]
  },
  {
   "cell_type": "code",
   "execution_count": 339,
   "id": "abdded2a",
   "metadata": {},
   "outputs": [
    {
     "name": "stdout",
     "output_type": "stream",
     "text": [
      "Epoch 1/10\n",
      "250/250 [==============================] - 88s 352ms/step - loss: 0.7066 - accuracy: 0.6469 - val_loss: 0.4070 - val_accuracy: 0.6715\n",
      "Epoch 2/10\n",
      "250/250 [==============================] - 73s 292ms/step - loss: 0.3538 - accuracy: 0.6826 - val_loss: 0.3683 - val_accuracy: 0.6720\n",
      "Epoch 3/10\n",
      "250/250 [==============================] - 85s 340ms/step - loss: 0.3420 - accuracy: 0.6876 - val_loss: 0.3665 - val_accuracy: 0.6935\n",
      "Epoch 4/10\n",
      "250/250 [==============================] - 82s 330ms/step - loss: 0.3319 - accuracy: 0.6985 - val_loss: 0.3509 - val_accuracy: 0.6865\n",
      "Epoch 5/10\n",
      "250/250 [==============================] - 76s 304ms/step - loss: 0.3204 - accuracy: 0.6992 - val_loss: 0.3521 - val_accuracy: 0.6980\n",
      "Epoch 6/10\n",
      "250/250 [==============================] - 87s 348ms/step - loss: 0.3107 - accuracy: 0.7048 - val_loss: 0.3556 - val_accuracy: 0.6440\n",
      "Epoch 7/10\n",
      "250/250 [==============================] - 73s 291ms/step - loss: 0.3048 - accuracy: 0.7101 - val_loss: 0.3436 - val_accuracy: 0.6810\n",
      "Epoch 8/10\n",
      "250/250 [==============================] - 71s 282ms/step - loss: 0.2983 - accuracy: 0.7101 - val_loss: 0.3341 - val_accuracy: 0.6945\n",
      "Epoch 9/10\n",
      "250/250 [==============================] - 80s 322ms/step - loss: 0.2917 - accuracy: 0.7147 - val_loss: 0.3519 - val_accuracy: 0.6680\n",
      "Epoch 10/10\n",
      "250/250 [==============================] - 75s 299ms/step - loss: 0.2888 - accuracy: 0.7188 - val_loss: 0.3351 - val_accuracy: 0.6790\n"
     ]
    }
   ],
   "source": [
    "tf.config.experimental_run_functions_eagerly(True)\n",
    "history = model2.fit(\n",
    "  x=X_train,\n",
    "  y=y_train2,\n",
    "  validation_split=0.2,\n",
    "  epochs=10\n",
    ")"
   ]
  },
  {
   "cell_type": "code",
   "execution_count": 237,
   "id": "protective-logan",
   "metadata": {
    "id": "private-conflict"
   },
   "outputs": [],
   "source": [
    "X_val = []\n",
    "for i in range(1000):\n",
    "    X_val.append(np.asarray(Image.open(\"HW4_data/public/val_{i}.jpg\".format(i=i))))\n",
    "    \n",
    "df_val = pd.read_csv(\"HW4_data/public/val_label.csv\", index_col=0)"
   ]
  },
  {
   "cell_type": "code",
   "execution_count": 239,
   "id": "7aa5f6ce",
   "metadata": {},
   "outputs": [
    {
     "data": {
      "text/plain": [
       "(1000, 128, 128)"
      ]
     },
     "execution_count": 239,
     "metadata": {},
     "output_type": "execute_result"
    }
   ],
   "source": [
    "X_val = np.array(X_val)\n",
    "X_val.shape"
   ]
  },
  {
   "cell_type": "code",
   "execution_count": 240,
   "id": "b91fc242",
   "metadata": {},
   "outputs": [],
   "source": [
    "X_val = X_val.reshape(1000,128,128,1)"
   ]
  },
  {
   "cell_type": "code",
   "execution_count": 241,
   "id": "1c1d65b3",
   "metadata": {},
   "outputs": [],
   "source": [
    "y_val = pd.DataFrame(df_val,columns=['Edema'])\n",
    "y_val = np.array(y_val)\n",
    "# y_val"
   ]
  },
  {
   "cell_type": "code",
   "execution_count": 293,
   "id": "71925f61",
   "metadata": {},
   "outputs": [],
   "source": [
    "y_val2 = pd.DataFrame(df_val,columns=['Atelectasis','Cardiomegaly','Edema','Lung Opacity','No Finding','Pleural Effusion','Support Devices'])\n",
    "y_val2 = np.array(y_val2)"
   ]
  },
  {
   "cell_type": "code",
   "execution_count": 242,
   "id": "c3ffa237",
   "metadata": {},
   "outputs": [
    {
     "name": "stdout",
     "output_type": "stream",
     "text": [
      "313/313 [==============================] - 38s 121ms/step - loss: 0.4177 - accuracy: 0.8130\n",
      "Training set accuracy: 0.8130000233650208\n",
      "32/32 [==============================] - 9s 266ms/step - loss: 0.4310 - accuracy: 0.7870\n",
      "Testing set accuracy 0.7870000004768372\n"
     ]
    }
   ],
   "source": [
    "loss, accuracy = model.evaluate(X_train, y_train)\n",
    "print(\"Training set accuracy:\",accuracy)\n",
    "loss, accuracy = model.evaluate(X_val, y_val)\n",
    "print(\"Testing set accuracy\",accuracy)"
   ]
  },
  {
   "cell_type": "code",
   "execution_count": 340,
   "id": "1522051c",
   "metadata": {},
   "outputs": [
    {
     "name": "stdout",
     "output_type": "stream",
     "text": [
      "313/313 [==============================] - 35s 112ms/step - loss: 0.2870 - accuracy: 0.7175\n",
      "Training set accuracy2: 0.7174999713897705\n",
      "32/32 [==============================] - 3s 102ms/step - loss: 0.3183 - accuracy: 0.7020\n",
      "Testing set accuracy2 0.7020000219345093\n"
     ]
    }
   ],
   "source": [
    "loss, accuracy = model2.evaluate(X_train, y_train2)\n",
    "print(\"Training set accuracy2:\",accuracy)\n",
    "loss, accuracy = model2.evaluate(X_val, y_val2)\n",
    "print(\"Testing set accuracy2\",accuracy)"
   ]
  },
  {
   "cell_type": "code",
   "execution_count": 243,
   "id": "ac7cd536",
   "metadata": {},
   "outputs": [
    {
     "data": {
      "text/plain": [
       "(10000, 128, 128, 1)"
      ]
     },
     "execution_count": 243,
     "metadata": {},
     "output_type": "execute_result"
    }
   ],
   "source": [
    "X_train.shape"
   ]
  },
  {
   "cell_type": "code",
   "execution_count": 244,
   "id": "1cb814cb",
   "metadata": {},
   "outputs": [
    {
     "data": {
      "text/plain": [
       "(10000, 1)"
      ]
     },
     "execution_count": 244,
     "metadata": {},
     "output_type": "execute_result"
    }
   ],
   "source": [
    "y_train.shape"
   ]
  },
  {
   "cell_type": "code",
   "execution_count": 246,
   "id": "e3edd283",
   "metadata": {},
   "outputs": [
    {
     "data": {
      "text/plain": [
       "(1500, 128, 128)"
      ]
     },
     "execution_count": 246,
     "metadata": {},
     "output_type": "execute_result"
    }
   ],
   "source": [
    "X_test = np.array(X_test)\n",
    "X_test.shape"
   ]
  },
  {
   "cell_type": "code",
   "execution_count": 247,
   "id": "4e79d792",
   "metadata": {},
   "outputs": [],
   "source": [
    "X_test = X_test.reshape(1500,128,128,1)"
   ]
  },
  {
   "cell_type": "code",
   "execution_count": 248,
   "id": "28286a20",
   "metadata": {},
   "outputs": [],
   "source": [
    "predict = model.predict(X_test)"
   ]
  },
  {
   "cell_type": "code",
   "execution_count": 250,
   "id": "89d6b91a",
   "metadata": {},
   "outputs": [
    {
     "data": {
      "text/plain": [
       "array([[0.37465099],\n",
       "       [0.26230735],\n",
       "       [0.1696671 ],\n",
       "       ...,\n",
       "       [0.27019113],\n",
       "       [0.14200756],\n",
       "       [0.5351743 ]], dtype=float32)"
      ]
     },
     "execution_count": 250,
     "metadata": {},
     "output_type": "execute_result"
    }
   ],
   "source": [
    "predict"
   ]
  },
  {
   "cell_type": "code",
   "execution_count": 264,
   "id": "3250d98d",
   "metadata": {},
   "outputs": [
    {
     "data": {
      "text/plain": [
       "array([0, 0, 0, ..., 0, 0, 1])"
      ]
     },
     "execution_count": 264,
     "metadata": {},
     "output_type": "execute_result"
    }
   ],
   "source": [
    "basic = []\n",
    "for i in predict:\n",
    "    if(i<0.5):\n",
    "        basic.append(0)\n",
    "    else:\n",
    "        basic.append(1)\n",
    "basic = np.array(basic)\n",
    "basic"
   ]
  },
  {
   "cell_type": "code",
   "execution_count": 341,
   "id": "594805d7",
   "metadata": {},
   "outputs": [],
   "source": [
    "predict2 = model2.predict(X_test)"
   ]
  },
  {
   "cell_type": "code",
   "execution_count": 345,
   "id": "5b3dd9d6",
   "metadata": {},
   "outputs": [
    {
     "data": {
      "text/plain": [
       "array([0.01384863, 0.01984811, 0.02214494, 0.01074547, 0.97512734,\n",
       "       0.01229158, 0.02315632], dtype=float32)"
      ]
     },
     "execution_count": 345,
     "metadata": {},
     "output_type": "execute_result"
    }
   ],
   "source": [
    "predict2[3]"
   ]
  },
  {
   "cell_type": "code",
   "execution_count": 355,
   "id": "b33827be",
   "metadata": {},
   "outputs": [
    {
     "data": {
      "text/plain": [
       "array([[0, 0, 0, ..., 1, 0, 0],\n",
       "       [0, 0, 0, ..., 1, 0, 0],\n",
       "       [0, 0, 0, ..., 1, 0, 0],\n",
       "       ...,\n",
       "       [0, 0, 0, ..., 1, 0, 0],\n",
       "       [0, 0, 0, ..., 1, 0, 0],\n",
       "       [0, 0, 0, ..., 0, 0, 0]])"
      ]
     },
     "execution_count": 355,
     "metadata": {},
     "output_type": "execute_result"
    }
   ],
   "source": [
    "advance = np.where(predict2 >= 0.5 , 1 , 0)\n",
    "advance"
   ]
  },
  {
   "cell_type": "code",
   "execution_count": 269,
   "id": "b319c612",
   "metadata": {},
   "outputs": [],
   "source": [
    "output_path = STUDENT_ID + '_basic_prediction.csv'\n",
    "\n",
    "data1 = pd.DataFrame( { 'Edema': basic } )\n",
    "data1.to_csv(output_path, index = True)"
   ]
  },
  {
   "cell_type": "code",
   "execution_count": 358,
   "id": "978de435",
   "metadata": {},
   "outputs": [],
   "source": [
    "output_path = STUDENT_ID + '_advanced_prediction.csv'\n",
    "\n",
    "data2 = pd.DataFrame( advance)\n",
    "data2.columns = ['Atelectasis','Cardiomegaly','Edema','Lung Opacity','No Finding','Pleural Effusion','Support Devices']\n",
    "data2.to_csv(output_path, index = True)"
   ]
  },
  {
   "cell_type": "code",
   "execution_count": null,
   "id": "c8f19574",
   "metadata": {},
   "outputs": [],
   "source": [
    "data2"
   ]
  },
  {
   "cell_type": "code",
   "execution_count": 270,
   "id": "fdc41498",
   "metadata": {},
   "outputs": [
    {
     "data": {
      "text/html": [
       "<div>\n",
       "<style scoped>\n",
       "    .dataframe tbody tr th:only-of-type {\n",
       "        vertical-align: middle;\n",
       "    }\n",
       "\n",
       "    .dataframe tbody tr th {\n",
       "        vertical-align: top;\n",
       "    }\n",
       "\n",
       "    .dataframe thead th {\n",
       "        text-align: right;\n",
       "    }\n",
       "</style>\n",
       "<table border=\"1\" class=\"dataframe\">\n",
       "  <thead>\n",
       "    <tr style=\"text-align: right;\">\n",
       "      <th></th>\n",
       "      <th>Edema</th>\n",
       "    </tr>\n",
       "  </thead>\n",
       "  <tbody>\n",
       "    <tr>\n",
       "      <th>0</th>\n",
       "      <td>0</td>\n",
       "    </tr>\n",
       "    <tr>\n",
       "      <th>1</th>\n",
       "      <td>0</td>\n",
       "    </tr>\n",
       "    <tr>\n",
       "      <th>2</th>\n",
       "      <td>0</td>\n",
       "    </tr>\n",
       "    <tr>\n",
       "      <th>3</th>\n",
       "      <td>0</td>\n",
       "    </tr>\n",
       "    <tr>\n",
       "      <th>4</th>\n",
       "      <td>0</td>\n",
       "    </tr>\n",
       "    <tr>\n",
       "      <th>...</th>\n",
       "      <td>...</td>\n",
       "    </tr>\n",
       "    <tr>\n",
       "      <th>1495</th>\n",
       "      <td>0</td>\n",
       "    </tr>\n",
       "    <tr>\n",
       "      <th>1496</th>\n",
       "      <td>0</td>\n",
       "    </tr>\n",
       "    <tr>\n",
       "      <th>1497</th>\n",
       "      <td>0</td>\n",
       "    </tr>\n",
       "    <tr>\n",
       "      <th>1498</th>\n",
       "      <td>0</td>\n",
       "    </tr>\n",
       "    <tr>\n",
       "      <th>1499</th>\n",
       "      <td>1</td>\n",
       "    </tr>\n",
       "  </tbody>\n",
       "</table>\n",
       "<p>1500 rows × 1 columns</p>\n",
       "</div>"
      ],
      "text/plain": [
       "      Edema\n",
       "0         0\n",
       "1         0\n",
       "2         0\n",
       "3         0\n",
       "4         0\n",
       "...     ...\n",
       "1495      0\n",
       "1496      0\n",
       "1497      0\n",
       "1498      0\n",
       "1499      1\n",
       "\n",
       "[1500 rows x 1 columns]"
      ]
     },
     "execution_count": 270,
     "metadata": {},
     "output_type": "execute_result"
    }
   ],
   "source": [
    "data1"
   ]
  },
  {
   "cell_type": "code",
   "execution_count": null,
   "id": "178b731b",
   "metadata": {},
   "outputs": [],
   "source": []
  }
 ],
 "metadata": {
  "colab": {
   "collapsed_sections": [],
   "name": "HW4_load_data.ipynb",
   "provenance": []
  },
  "kernelspec": {
   "display_name": "Python 3",
   "language": "python",
   "name": "python3"
  },
  "language_info": {
   "codemirror_mode": {
    "name": "ipython",
    "version": 3
   },
   "file_extension": ".py",
   "mimetype": "text/x-python",
   "name": "python",
   "nbconvert_exporter": "python",
   "pygments_lexer": "ipython3",
   "version": "3.6.5"
  }
 },
 "nbformat": 4,
 "nbformat_minor": 5
}
