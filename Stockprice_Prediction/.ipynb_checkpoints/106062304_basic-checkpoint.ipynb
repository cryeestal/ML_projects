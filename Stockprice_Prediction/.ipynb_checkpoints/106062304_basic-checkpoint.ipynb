{
 "cells": [
  {
   "cell_type": "code",
   "execution_count": 706,
   "id": "ef8d0a35",
   "metadata": {},
   "outputs": [],
   "source": [
    "#!/usr/bin/env python\n",
    "# coding: utf-8\n",
    "\n",
    "# import packages\n",
    "# Note: You cannot import any other packages!\n",
    "import numpy as np\n",
    "import matplotlib.pyplot as plt\n",
    "import csv\n",
    "import math\n",
    "import random\n",
    "\n",
    "\n",
    "# Global attributes\n",
    "# Do not change anything here except TODO 1 \n",
    "StudentID = '106062304' # TODO 1 : Fill your student ID here\n",
    "input_dataroot = 'input.csv' # Please name your input csv file as 'input.csv'\n",
    "output_dataroot =StudentID+'_basic_prediction.csv'\n",
    "# Output file will be named as '[StudentID]_basic_prediction.csv'\n",
    "\n",
    "input_datalist =  [] # Initial datalist, saved as numpy array\n",
    "output_datalist =  [] # Your prediction, should be 20 * 2 matrix and saved as numpy array\n",
    "                      # The format of each row should be [Date, TSMC_Price_Prediction] \n",
    "                      # e.g. ['2021/10/15', 512]\n",
    "\n",
    "# You can add your own global attributes here\n",
    "# Read input csv to datalist\n",
    "with open(input_dataroot, newline='') as csvfile:\n",
    "    input_datalist = np.array(list(csv.reader(csvfile)))\n",
    "#     print(input_datalist)\n",
    "#     print(input_datalist.shape)\n",
    " "
   ]
  },
  {
   "cell_type": "code",
   "execution_count": 707,
   "id": "2c836155",
   "metadata": {},
   "outputs": [],
   "source": [
    "def SplitData():\n",
    "# TODO 2: Split data, 2021/10/15 ~ 2021/11/11 for testing data, and the other for training data and validation data \n",
    "    data = []\n",
    "    train = input_datalist[129:189]#前60天等下都下去訓練\n",
    "    test = input_datalist[189:]\n",
    "    validate = input_datalist[169:189]\n",
    "    data.append(train)\n",
    "    data.append(test)\n",
    "    data.append(validate)\n",
    "    return data"
   ]
  },
  {
   "cell_type": "code",
   "execution_count": 708,
   "id": "72e82d21",
   "metadata": {},
   "outputs": [],
   "source": [
    "def PreprocessData():\n",
    "# TODO 3: Preprocess your data  e.g. split datalist to x_datalist and y_datalist\n",
    "    x_datalist=[]\n",
    "    y_datalist=[]\n",
    "    vx_datalist=[]\n",
    "    vy_datalist=[]\n",
    "    data=[]\n",
    "    \n",
    "    for i in range(0,60):\n",
    "        x_datalist.append(int(SplitData()[0][i][1]))#put in 60 training data\n",
    "        y_datalist.append(int(SplitData()[0][i][2]))\n",
    "        \n",
    "    for i in range(0,20):   \n",
    "        vx_datalist.append(int(SplitData()[2][i][1]))#put in 20 validate data\n",
    "        vy_datalist.append(int(SplitData()[2][i][2]))\n",
    "\n",
    "    data.append(x_datalist)\n",
    "    data.append(y_datalist)\n",
    "    data.append(vx_datalist)\n",
    "    data.append(vy_datalist)\n",
    "    return(data)"
   ]
  },
  {
   "cell_type": "code",
   "execution_count": 709,
   "id": "6a310368",
   "metadata": {},
   "outputs": [],
   "source": [
    "def Regression():\n",
    "# TODO 4: Implement regression\n",
    "    data = []\n",
    "    x=np.array(PreprocessData()[0])\n",
    "    y=np.array(PreprocessData()[1])#old y of training data\n",
    "\n",
    "    newx=np.concatenate((np.ones((x.shape[0],1)),x[:,np.newaxis]),axis=1)\n",
    "    newy=y[:,np.newaxis]\n",
    "    beta=np.matmul(np.matmul(np.linalg.inv(np.matmul(newx.T,newx)),newx.T),newy)\n",
    "    \n",
    "    valx = PreprocessData()[2]\n",
    "    valy = PreprocessData()[3]#validate data for test\n",
    "     \n",
    "    xs=valx\n",
    "    ys=beta[0]+beta[1]*xs #ys = new y of training data\n",
    "    \n",
    "    plt.scatter(valx,valy,s=100)\n",
    "    plt.plot(xs,ys,'r',linewidth=3)\n",
    "    plt.xlabel('x軸',fontsize=20)\n",
    "    plt.ylabel('y軸',fontsize=20,rotation=0)\n",
    "#     plt.savefig('ols_datapoint')\n",
    "\n",
    "    data.append(beta)\n",
    "    data.append(valy)#old \n",
    "    data.append(ys)#new\n",
    "\n",
    "    \n",
    "    return data\n"
   ]
  },
  {
   "cell_type": "code",
   "execution_count": 710,
   "id": "cf767ad8",
   "metadata": {},
   "outputs": [],
   "source": [
    "def CountLoss(new,old):\n",
    "# TODO 5: Count loss of training and validation data \n",
    "    loss = 1/len(old) * np.sum((new-old)**2)\n",
    "    return loss"
   ]
  },
  {
   "cell_type": "code",
   "execution_count": 711,
   "id": "a8140720",
   "metadata": {},
   "outputs": [],
   "source": [
    "def MakePrediction(test):\n",
    "# TODO 6: Make prediction of testing data \n",
    "   \n",
    "    a = Regression()[0][1]#beta weight\n",
    "    b = Regression()[0][0]#beta bias\n",
    "    y = a*test+b\n",
    "\n",
    "    return y"
   ]
  },
  {
   "cell_type": "code",
   "execution_count": 712,
   "id": "fe7ef8a2",
   "metadata": {},
   "outputs": [
    {
     "name": "stdout",
     "output_type": "stream",
     "text": [
      "OLS_countloss:\n",
      "58.497887519766415\n"
     ]
    },
    {
     "name": "stderr",
     "output_type": "stream",
     "text": [
      "/Library/Frameworks/Python.framework/Versions/3.6/lib/python3.6/site-packages/matplotlib/backends/backend_agg.py:238: RuntimeWarning: Glyph 36600 missing from current font.\n",
      "  font.set_text(s, 0.0, flags=flags)\n",
      "/Library/Frameworks/Python.framework/Versions/3.6/lib/python3.6/site-packages/matplotlib/backends/backend_agg.py:201: RuntimeWarning: Glyph 36600 missing from current font.\n",
      "  font.set_text(s, 0, flags=flags)\n"
     ]
    },
    {
     "data": {
      "image/png": "[encoded data removed]",
      "text/plain": [
       "<Figure size 432x288 with 1 Axes>"
      ]
     },
     "metadata": {},
     "output_type": "display_data"
    }
   ],
   "source": [
    "# TODO 7: Call functions of TODO 2 to TODO 6, train the model and make prediction\n",
    "print(\"OLS_countloss:\")\n",
    "print(CountLoss(Regression()[2],Regression()[1]))# 60:63.9 90:82  30:152"
   ]
  },
  {
   "cell_type": "code",
   "execution_count": 713,
   "id": "0280ee1f",
   "metadata": {},
   "outputs": [],
   "source": [
    "def gradient():\n",
    "    data=[]\n",
    "    rate=0.0000000001\n",
    "\n",
    "    x=np.array(PreprocessData()[0])\n",
    "    y=np.array(PreprocessData()[1])\n",
    "    \n",
    "    theta = np.random.randn(2,1)\n",
    "    #加入w0\n",
    "    newx=np.concatenate((np.ones((x.shape[0],1)),x[:,np.newaxis]),axis=1)\n",
    "    newy=y[:,np.newaxis]\n",
    "      \n",
    "    for i in range(1000):#1000次\n",
    "        predict_y = np.dot(newx,theta)\n",
    "        err = newy-predict_y\n",
    "        gradient = 2*np.dot(newx.T,err)\n",
    "        theta += rate*gradient\n",
    "        #newx.shape = (186,2) \n",
    "        #newy.shape = (186,1)\n",
    "        #theta.shape = (2,1)\n",
    "        #err.shape = (186,1) \n",
    "        #gradient.shape = (2,1)\n",
    "    \n",
    "    valx = PreprocessData()[2]\n",
    "    valy = PreprocessData()[3]\n",
    "        \n",
    "    xs=valx\n",
    "    ys=theta[0]+theta[1]*xs\n",
    "    \n",
    "    plt.scatter(valx,valy,s=100)\n",
    "    plt.plot(xs,ys,'r',linewidth=3)\n",
    "    plt.xlabel('x軸',fontsize=20)\n",
    "    plt.ylabel('y軸',fontsize=20,rotation=0)\n",
    "#     plt.savefig('grad_datapoint')\n",
    "\n",
    "    data.append(theta)\n",
    "    data.append(valy)\n",
    "    data.append(ys)\n",
    "    \n",
    "    return data"
   ]
  },
  {
   "cell_type": "code",
   "execution_count": 714,
   "id": "d8d48037",
   "metadata": {},
   "outputs": [
    {
     "name": "stdout",
     "output_type": "stream",
     "text": [
      "Gradient_descent_countloss:\n",
      "101.29464550916573\n"
     ]
    },
    {
     "name": "stderr",
     "output_type": "stream",
     "text": [
      "/Library/Frameworks/Python.framework/Versions/3.6/lib/python3.6/site-packages/matplotlib/backends/backend_agg.py:238: RuntimeWarning: Glyph 36600 missing from current font.\n",
      "  font.set_text(s, 0.0, flags=flags)\n",
      "/Library/Frameworks/Python.framework/Versions/3.6/lib/python3.6/site-packages/matplotlib/backends/backend_agg.py:201: RuntimeWarning: Glyph 36600 missing from current font.\n",
      "  font.set_text(s, 0, flags=flags)\n"
     ]
    },
    {
     "data": {
      "image/png": "[encoded data removed]",
      "text/plain": [
       "<Figure size 432x288 with 1 Axes>"
      ]
     },
     "metadata": {},
     "output_type": "display_data"
    }
   ],
   "source": [
    "print(\"Gradient_descent_countloss:\")\n",
    "print(CountLoss(gradient()[2],gradient()[1]))#  90:77.628 60:80.28  30:190"
   ]
  },
  {
   "cell_type": "code",
   "execution_count": 715,
   "id": "0de290b4",
   "metadata": {},
   "outputs": [],
   "source": [
    "test=[]\n",
    "data = SplitData()[1]\n",
    "for price in data:\n",
    "     test.append(int(price[1]))"
   ]
  },
  {
   "cell_type": "code",
   "execution_count": 716,
   "id": "28d8225f",
   "metadata": {},
   "outputs": [
    {
     "data": {
      "text/plain": [
       "array([594.1567439 , 594.1567439 , 594.1567439 , 594.47823788,\n",
       "       595.12122585, 595.76421383, 596.08570781, 596.72869578,\n",
       "       597.05018977, 597.05018977, 597.05018977, 597.37168376,\n",
       "       597.69317774, 598.01467173, 597.69317774, 597.05018977,\n",
       "       596.4072018 , 595.44271984, 594.1567439 , 593.51375592])"
      ]
     },
     "execution_count": 716,
     "metadata": {},
     "output_type": "execute_result"
    },
    {
     "name": "stderr",
     "output_type": "stream",
     "text": [
      "/Library/Frameworks/Python.framework/Versions/3.6/lib/python3.6/site-packages/matplotlib/backends/backend_agg.py:238: RuntimeWarning: Glyph 36600 missing from current font.\n",
      "  font.set_text(s, 0.0, flags=flags)\n",
      "/Library/Frameworks/Python.framework/Versions/3.6/lib/python3.6/site-packages/matplotlib/backends/backend_agg.py:201: RuntimeWarning: Glyph 36600 missing from current font.\n",
      "  font.set_text(s, 0, flags=flags)\n"
     ]
    },
    {
     "data": {
      "image/png": "[encoded data removed]",
      "text/plain": [
       "<Figure size 432x288 with 1 Axes>"
      ]
     },
     "metadata": {},
     "output_type": "display_data"
    }
   ],
   "source": [
    "MakePrediction(test)"
   ]
  },
  {
   "cell_type": "code",
   "execution_count": 717,
   "id": "70fb4acd",
   "metadata": {},
   "outputs": [
    {
     "name": "stdout",
     "output_type": "stream",
     "text": [
      "[['2021/10/15' '594.156743']\n",
      " ['2021/10/18' '594.156743']\n",
      " ['2021/10/19' '594.156743']\n",
      " ['2021/10/20' '594.478237']\n",
      " ['2021/10/21' '595.121225']\n",
      " ['2021/10/22' '595.764213']\n",
      " ['2021/10/25' '596.085707']\n",
      " ['2021/10/26' '596.728695']\n",
      " ['2021/10/27' '597.050189']\n",
      " ['2021/10/28' '597.050189']\n",
      " ['2021/10/29' '597.050189']\n",
      " ['2021/11/01' '597.371683']\n",
      " ['2021/11/02' '597.693177']\n",
      " ['2021/11/03' '598.014671']\n",
      " ['2021/11/04' '597.693177']\n",
      " ['2021/11/05' '597.050189']\n",
      " ['2021/11/08' '596.407201']\n",
      " ['2021/11/09' '595.442719']\n",
      " ['2021/11/10' '594.156743']\n",
      " ['2021/11/11' '593.513755']]\n"
     ]
    },
    {
     "name": "stderr",
     "output_type": "stream",
     "text": [
      "/Library/Frameworks/Python.framework/Versions/3.6/lib/python3.6/site-packages/matplotlib/backends/backend_agg.py:238: RuntimeWarning: Glyph 36600 missing from current font.\n",
      "  font.set_text(s, 0.0, flags=flags)\n",
      "/Library/Frameworks/Python.framework/Versions/3.6/lib/python3.6/site-packages/matplotlib/backends/backend_agg.py:201: RuntimeWarning: Glyph 36600 missing from current font.\n",
      "  font.set_text(s, 0, flags=flags)\n"
     ]
    },
    {
     "data": {
      "image/png": "[encoded data removed]",
      "text/plain": [
       "<Figure size 432x288 with 1 Axes>"
      ]
     },
     "metadata": {},
     "output_type": "display_data"
    }
   ],
   "source": [
    "# Write prediction to output csv\n",
    "with open(output_dataroot, 'w', newline='', encoding=\"utf-8\") as csvfile:\n",
    "    writer = csv.writer(csvfile)\n",
    "#     print(input_datalist[186:,1])\n",
    "    \n",
    "    tsmc = list(MakePrediction(test))\n",
    "    \n",
    "    output_datalist = input_datalist\n",
    "    output_datalist = np.delete(output_datalist,2,axis=1)\n",
    "    \n",
    "    for i in range(0,20):\n",
    "        output_datalist[i,0]=output_datalist[i+189,0]\n",
    "        output_datalist[i,1]=str(tsmc[i])\n",
    "        \n",
    "    for i in range(20,209):\n",
    "        output_datalist = np.delete(output_datalist,20,axis=0)  \n",
    "        \n",
    "    print(output_datalist)\n",
    "    for row in output_datalist:\n",
    "        writer.writerow(row)"
   ]
  },
  {
   "cell_type": "code",
   "execution_count": null,
   "id": "d22fedad",
   "metadata": {},
   "outputs": [],
   "source": []
  },
  {
   "cell_type": "code",
   "execution_count": null,
   "id": "4a48cd0b",
   "metadata": {},
   "outputs": [],
   "source": []
  },
  {
   "cell_type": "code",
   "execution_count": null,
   "id": "81a87b20",
   "metadata": {},
   "outputs": [],
   "source": []
  },
  {
   "cell_type": "code",
   "execution_count": null,
   "id": "7640b466",
   "metadata": {},
   "outputs": [],
   "source": []
  }
 ],
 "metadata": {
  "kernelspec": {
   "display_name": "Python 3",
   "language": "python",
   "name": "python3"
  },
  "language_info": {
   "codemirror_mode": {
    "name": "ipython",
    "version": 3
   },
   "file_extension": ".py",
   "mimetype": "text/x-python",
   "name": "python",
   "nbconvert_exporter": "python",
   "pygments_lexer": "ipython3",
   "version": "3.6.5"
  }
 },
 "nbformat": 4,
 "nbformat_minor": 5
}
