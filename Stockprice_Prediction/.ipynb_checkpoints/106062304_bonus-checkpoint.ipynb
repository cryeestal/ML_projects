{
 "cells": [
  {
   "cell_type": "code",
   "execution_count": 466,
   "id": "2e390465",
   "metadata": {},
   "outputs": [],
   "source": [
    "from keras.models import Sequential\n",
    "from keras.layers import Dense, LSTM\n",
    "from keras.layers import Dropout\n",
    "from sklearn.preprocessing import MinMaxScaler\n",
    "import tensorflow as tf\n",
    "import numpy as np\n",
    "import csv\n",
    "\n",
    "path= 'input.csv' \n",
    "outpath='106062304_bonus_prediction.csv'\n",
    "input_datalist = []\n",
    "output_datalist = []\n",
    "with open(path, newline='') as csvfile:\n",
    "    input_datalist = np.array(list(csv.reader(csvfile)))\n",
    "    \n",
    "x=[]\n",
    "for i in range(0,209):\n",
    "     x.append(int(input_datalist[i][2]))\n",
    "dataset=np.array(x)\n",
    "dataset = dataset[:,np.newaxis]\n"
   ]
  },
  {
   "cell_type": "code",
   "execution_count": 467,
   "id": "74198216",
   "metadata": {},
   "outputs": [],
   "source": [
    "scaler = MinMaxScaler(feature_range=(0,1)).fit(dataset)\n",
    "process = scaler.transform(dataset)"
   ]
  },
  {
   "cell_type": "code",
   "execution_count": 468,
   "id": "1841d9d1",
   "metadata": {},
   "outputs": [],
   "source": [
    "data = int(len(dataset)) - 20\n",
    "train_data = process[0:int(data), :]\n",
    "\n",
    "x_train = []\n",
    "y_train = []\n",
    "\n",
    "for i in range(80, len(train_data)):#60~189\n",
    "    x_train.append(train_data[i-80:i-20,0])#拿60個數據（0~60,1~61) 資料做位移展開\n",
    "    y_train.append(train_data[i,0])#未來一天的數據\n",
    "        \n",
    "x_train, y_train = np.array(x_train), np.array(y_train)\n",
    "x_train = np.reshape(x_train, (x_train.shape[0], x_train.shape[1], 1))\n",
    "\n",
    "\n"
   ]
  },
  {
   "cell_type": "code",
   "execution_count": 469,
   "id": "1ca3f518",
   "metadata": {},
   "outputs": [
    {
     "name": "stdout",
     "output_type": "stream",
     "text": [
      "109/109 [==============================] - 7s 18ms/step - loss: 0.0294\n"
     ]
    },
    {
     "data": {
      "text/plain": [
       "<keras.callbacks.History at 0x1898ab710>"
      ]
     },
     "execution_count": 469,
     "metadata": {},
     "output_type": "execute_result"
    }
   ],
   "source": [
    "from keras.models import Sequential\n",
    "from keras.layers import Dense, LSTM\n",
    "from keras.layers import Dropout\n",
    "\n",
    "#LSTM model\n",
    "model = Sequential()\n",
    "model.add(LSTM(128, return_sequences=True, input_shape= (x_train.shape[1], 1)))\n",
    "model.add(Dropout(0.2))\n",
    "model.add(LSTM(64, return_sequences=False))\n",
    "model.add(Dense(25))\n",
    "model.add(Dropout(0.2))\n",
    "model.add(Dense(1))\n",
    "\n",
    "model.compile(optimizer='adam', loss='mean_squared_error')\n",
    "model.fit(x_train, y_train, batch_size=1, epochs=1)"
   ]
  },
  {
   "cell_type": "code",
   "execution_count": 470,
   "id": "923dd1b0",
   "metadata": {},
   "outputs": [
    {
     "name": "stdout",
     "output_type": "stream",
     "text": [
      "97.86731004906144\n",
      "16.441775272687913\n"
     ]
    }
   ],
   "source": [
    "valx = process[0:int(data), :]\n",
    "x_t = []\n",
    "validation = dataset[60:data, :]\n",
    "\n",
    "\n",
    "for i in range(60, len(valx)):\n",
    "    x_t.append(valx[i-60:i, 0])\n",
    "    \n",
    "x_t = np.array(x_t)\n",
    "x_t = np.reshape(x_t, (x_t.shape[0], x_t.shape[1], 1 ))\n",
    "\n",
    "out = model.predict(x_t)\n",
    "out = scaler.inverse_transform(out)\n",
    "\n",
    "rmse = np.sqrt(np.mean(((out - validation) ** 2)))\n",
    "mape = np.mean(np.abs((validation - out)/validation))*100\n",
    "print(rmse)\n",
    "print(mape)"
   ]
  },
  {
   "cell_type": "code",
   "execution_count": 471,
   "id": "2a56d237",
   "metadata": {},
   "outputs": [],
   "source": [
    "valx = process[data - 60:, :]\n",
    "# print(test_data)\n",
    "y_test = dataset[data:, :]\n",
    "predictions=[]\n",
    "\n",
    "\n",
    "for i in range(60, len(valx)):\n",
    "    x_t = []\n",
    "    x_t.append(valx[i-60:i, 0])\n",
    "    #testdate分批(前60天數據)\n",
    "    \n",
    "    x_t = np.array(x_t)\n",
    "    x_t = np.reshape(x_t, (x_t.shape[0], x_t.shape[1], 1 ))\n",
    "\n",
    "    # predict\n",
    "\n",
    "    predict = model.predict(x_t)\n",
    "    valx[i, 0] = predict\n",
    "    \n",
    "    finpredict = scaler.inverse_transform(predict)\n",
    "    finpredict = np.reshape(finpredict, (finpredict.shape[0]))\n",
    "    finpredict = list(finpredict)\n",
    "    predictions.append(finpredict)\n",
    "    \n",
    "predictions = np.array(predictions)    "
   ]
  },
  {
   "cell_type": "code",
   "execution_count": 472,
   "id": "6f0b536c",
   "metadata": {},
   "outputs": [
    {
     "data": {
      "text/plain": [
       "array([676.8487 , 679.88727, 685.4719 , 692.7143 , 700.95764, 709.7454 ,\n",
       "       718.76965, 727.8261 , 736.78265, 745.55524, 754.09247, 762.36395,\n",
       "       770.3535 , 778.0531 , 785.46106, 792.5796 , 799.4126 , 805.96625,\n",
       "       812.2474 , 818.26337], dtype=float32)"
      ]
     },
     "execution_count": 472,
     "metadata": {},
     "output_type": "execute_result"
    }
   ],
   "source": [
    "predictions = np.reshape(predictions, (predictions.shape[0]))\n",
    "predictions"
   ]
  },
  {
   "cell_type": "code",
   "execution_count": 473,
   "id": "44f8899e",
   "metadata": {},
   "outputs": [
    {
     "name": "stdout",
     "output_type": "stream",
     "text": [
      "[['2021/10/15' '676.8487']\n",
      " ['2021/10/18' '679.88727']\n",
      " ['2021/10/19' '685.4719']\n",
      " ['2021/10/20' '692.7143']\n",
      " ['2021/10/21' '700.95764']\n",
      " ['2021/10/22' '709.7454']\n",
      " ['2021/10/25' '718.76965']\n",
      " ['2021/10/26' '727.8261']\n",
      " ['2021/10/27' '736.78265']\n",
      " ['2021/10/28' '745.55524']\n",
      " ['2021/10/29' '754.09247']\n",
      " ['2021/11/01' '762.36395']\n",
      " ['2021/11/02' '770.3535']\n",
      " ['2021/11/03' '778.0531']\n",
      " ['2021/11/04' '785.46106']\n",
      " ['2021/11/05' '792.5796']\n",
      " ['2021/11/08' '799.4126']\n",
      " ['2021/11/09' '805.96625']\n",
      " ['2021/11/10' '812.2474']\n",
      " ['2021/11/11' '818.26337']]\n"
     ]
    }
   ],
   "source": [
    "# Write prediction to output csv\n",
    "with open(outpath, 'w', newline='', encoding=\"utf-8\") as csvfile:\n",
    "    writer = csv.writer(csvfile)\n",
    "#     print(input_datalist[186:,1])\n",
    "    \n",
    "    tsmc = list(predictions)\n",
    "    \n",
    "    output_datalist = input_datalist\n",
    "    output_datalist = np.delete(output_datalist,2,axis=1)\n",
    "    \n",
    "    for i in range(0,20):\n",
    "        output_datalist[i,0]=output_datalist[i+189,0]\n",
    "        output_datalist[i,1]=str(tsmc[i])\n",
    "        \n",
    "    for i in range(20,209):\n",
    "        output_datalist = np.delete(output_datalist,20,axis=0)  \n",
    "        \n",
    "    print(output_datalist)\n",
    "    for row in output_datalist:\n",
    "        writer.writerow(row)"
   ]
  },
  {
   "cell_type": "code",
   "execution_count": null,
   "id": "560fddde",
   "metadata": {},
   "outputs": [],
   "source": []
  },
  {
   "cell_type": "code",
   "execution_count": null,
   "id": "cac2ceea",
   "metadata": {},
   "outputs": [],
   "source": []
  }
 ],
 "metadata": {
  "kernelspec": {
   "display_name": "Python 3",
   "language": "python",
   "name": "python3"
  },
  "language_info": {
   "codemirror_mode": {
    "name": "ipython",
    "version": 3
   },
   "file_extension": ".py",
   "mimetype": "text/x-python",
   "name": "python",
   "nbconvert_exporter": "python",
   "pygments_lexer": "ipython3",
   "version": "3.6.5"
  }
 },
 "nbformat": 4,
 "nbformat_minor": 5
}
