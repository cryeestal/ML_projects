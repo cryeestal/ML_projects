{
 "cells": [
  {
   "cell_type": "markdown",
   "metadata": {
    "id": "yEtwmT5QNVLn"
   },
   "source": [
    "# **HW2: Decision Tree** \n",
    "In *assignment 2*, you need to:\n",
    "\n",
    "1.   Implement the decision tree in 3 steps (with the example data)\n",
    "\n",
    "\n",
    "*   Step 1: calculate the entropy\n",
    "*   Step 2: search for the best split\n",
    "*   Step 3: build the decision tree\n",
    "\n",
    "2.   Predict the patients' death (hospDIED) in the *MIMIC* dataset\n",
    "\n",
    "Please fill in your **studentID** here."
   ]
  },
  {
   "cell_type": "code",
   "execution_count": 1,
   "metadata": {
    "id": "F-ad78F1Ng-0"
   },
   "outputs": [],
   "source": [
    "STUDENT_ID = '106062304'"
   ]
  },
  {
   "cell_type": "markdown",
   "metadata": {
    "id": "s6lZtFwY4kjA"
   },
   "source": [
    "# **1. Implement the Decision Tree**\n",
    "In the first part, you need to implement the decision tree by completing the given funcitions.\n",
    "\n",
    "Also, you need to run those functions with given input variables and save the output to the implementation csv file **[STUDENT_ID]_implementation.csv**.\n",
    "\n",
    "Implement a binary decision tree to classify *Restaurant* dataset."
   ]
  },
  {
   "cell_type": "markdown",
   "metadata": {
    "id": "aFStwbIaNkrQ"
   },
   "source": [
    "## Import Packages\n",
    "\n",
    "Note: You **cannot** import any other packages in the first part (implementation)!"
   ]
  },
  {
   "cell_type": "code",
   "execution_count": 2,
   "metadata": {
    "id": "Gea2xBsNdQMC"
   },
   "outputs": [],
   "source": [
    "import numpy as np\n",
    "import pandas as pd\n",
    "import random\n",
    "# import ssl\n",
    "\n",
    "# ssl._create_default_https_context = ssl._create_unverified_context"
   ]
  },
  {
   "cell_type": "markdown",
   "metadata": {
    "id": "QENWRdMMO3z_"
   },
   "source": [
    "## Load the Example Data\n",
    "First, load the *Restaurant waiting* dataset: **data.csv**"
   ]
  },
  {
   "cell_type": "code",
   "execution_count": 86,
   "metadata": {
    "colab": {
     "base_uri": "https://localhost:8080/",
     "height": 421
    },
    "id": "cMQ8mdm04rN0",
    "outputId": "79a641fc-a53f-474d-edd4-351ac32a3d4b"
   },
   "outputs": [
    {
     "data": {
      "text/html": [
       "<div>\n",
       "<style scoped>\n",
       "    .dataframe tbody tr th:only-of-type {\n",
       "        vertical-align: middle;\n",
       "    }\n",
       "\n",
       "    .dataframe tbody tr th {\n",
       "        vertical-align: top;\n",
       "    }\n",
       "\n",
       "    .dataframe thead th {\n",
       "        text-align: right;\n",
       "    }\n",
       "</style>\n",
       "<table border=\"1\" class=\"dataframe\">\n",
       "  <thead>\n",
       "    <tr style=\"text-align: right;\">\n",
       "      <th></th>\n",
       "      <th>Unnamed: 0</th>\n",
       "      <th>Alternate</th>\n",
       "      <th>Bar</th>\n",
       "      <th>Friday</th>\n",
       "      <th>Hungry</th>\n",
       "      <th>Patrons</th>\n",
       "      <th>Price</th>\n",
       "      <th>Raining</th>\n",
       "      <th>Reservation</th>\n",
       "      <th>Type</th>\n",
       "      <th>WaitEstimate</th>\n",
       "      <th>Wait</th>\n",
       "    </tr>\n",
       "  </thead>\n",
       "  <tbody>\n",
       "    <tr>\n",
       "      <th>0</th>\n",
       "      <td>X1</td>\n",
       "      <td>T</td>\n",
       "      <td>F</td>\n",
       "      <td>F</td>\n",
       "      <td>T</td>\n",
       "      <td>Some</td>\n",
       "      <td>High</td>\n",
       "      <td>F</td>\n",
       "      <td>T</td>\n",
       "      <td>French</td>\n",
       "      <td>8</td>\n",
       "      <td>T</td>\n",
       "    </tr>\n",
       "    <tr>\n",
       "      <th>1</th>\n",
       "      <td>X2</td>\n",
       "      <td>T</td>\n",
       "      <td>F</td>\n",
       "      <td>F</td>\n",
       "      <td>T</td>\n",
       "      <td>Full</td>\n",
       "      <td>Low</td>\n",
       "      <td>F</td>\n",
       "      <td>F</td>\n",
       "      <td>Thai</td>\n",
       "      <td>40</td>\n",
       "      <td>F</td>\n",
       "    </tr>\n",
       "    <tr>\n",
       "      <th>2</th>\n",
       "      <td>X3</td>\n",
       "      <td>F</td>\n",
       "      <td>T</td>\n",
       "      <td>F</td>\n",
       "      <td>F</td>\n",
       "      <td>Some</td>\n",
       "      <td>Low</td>\n",
       "      <td>F</td>\n",
       "      <td>F</td>\n",
       "      <td>Burger</td>\n",
       "      <td>8</td>\n",
       "      <td>T</td>\n",
       "    </tr>\n",
       "    <tr>\n",
       "      <th>3</th>\n",
       "      <td>X4</td>\n",
       "      <td>T</td>\n",
       "      <td>F</td>\n",
       "      <td>T</td>\n",
       "      <td>T</td>\n",
       "      <td>Full</td>\n",
       "      <td>Low</td>\n",
       "      <td>F</td>\n",
       "      <td>F</td>\n",
       "      <td>Thai</td>\n",
       "      <td>12</td>\n",
       "      <td>T</td>\n",
       "    </tr>\n",
       "    <tr>\n",
       "      <th>4</th>\n",
       "      <td>X5</td>\n",
       "      <td>T</td>\n",
       "      <td>F</td>\n",
       "      <td>T</td>\n",
       "      <td>F</td>\n",
       "      <td>Full</td>\n",
       "      <td>High</td>\n",
       "      <td>F</td>\n",
       "      <td>T</td>\n",
       "      <td>French</td>\n",
       "      <td>70</td>\n",
       "      <td>F</td>\n",
       "    </tr>\n",
       "    <tr>\n",
       "      <th>5</th>\n",
       "      <td>X6</td>\n",
       "      <td>F</td>\n",
       "      <td>T</td>\n",
       "      <td>F</td>\n",
       "      <td>T</td>\n",
       "      <td>Some</td>\n",
       "      <td>Medium</td>\n",
       "      <td>T</td>\n",
       "      <td>T</td>\n",
       "      <td>Italian</td>\n",
       "      <td>3</td>\n",
       "      <td>T</td>\n",
       "    </tr>\n",
       "    <tr>\n",
       "      <th>6</th>\n",
       "      <td>X7</td>\n",
       "      <td>F</td>\n",
       "      <td>T</td>\n",
       "      <td>F</td>\n",
       "      <td>F</td>\n",
       "      <td>None</td>\n",
       "      <td>Low</td>\n",
       "      <td>T</td>\n",
       "      <td>F</td>\n",
       "      <td>Burger</td>\n",
       "      <td>7</td>\n",
       "      <td>F</td>\n",
       "    </tr>\n",
       "    <tr>\n",
       "      <th>7</th>\n",
       "      <td>X8</td>\n",
       "      <td>F</td>\n",
       "      <td>F</td>\n",
       "      <td>F</td>\n",
       "      <td>T</td>\n",
       "      <td>Some</td>\n",
       "      <td>Medium</td>\n",
       "      <td>T</td>\n",
       "      <td>T</td>\n",
       "      <td>Thai</td>\n",
       "      <td>6</td>\n",
       "      <td>T</td>\n",
       "    </tr>\n",
       "    <tr>\n",
       "      <th>8</th>\n",
       "      <td>X9</td>\n",
       "      <td>F</td>\n",
       "      <td>T</td>\n",
       "      <td>T</td>\n",
       "      <td>F</td>\n",
       "      <td>Full</td>\n",
       "      <td>Low</td>\n",
       "      <td>T</td>\n",
       "      <td>F</td>\n",
       "      <td>Burger</td>\n",
       "      <td>80</td>\n",
       "      <td>F</td>\n",
       "    </tr>\n",
       "    <tr>\n",
       "      <th>9</th>\n",
       "      <td>X10</td>\n",
       "      <td>T</td>\n",
       "      <td>T</td>\n",
       "      <td>T</td>\n",
       "      <td>T</td>\n",
       "      <td>Full</td>\n",
       "      <td>High</td>\n",
       "      <td>F</td>\n",
       "      <td>T</td>\n",
       "      <td>Italian</td>\n",
       "      <td>20</td>\n",
       "      <td>F</td>\n",
       "    </tr>\n",
       "    <tr>\n",
       "      <th>10</th>\n",
       "      <td>X11</td>\n",
       "      <td>F</td>\n",
       "      <td>F</td>\n",
       "      <td>F</td>\n",
       "      <td>F</td>\n",
       "      <td>None</td>\n",
       "      <td>Low</td>\n",
       "      <td>F</td>\n",
       "      <td>F</td>\n",
       "      <td>Thai</td>\n",
       "      <td>8</td>\n",
       "      <td>F</td>\n",
       "    </tr>\n",
       "    <tr>\n",
       "      <th>11</th>\n",
       "      <td>X12</td>\n",
       "      <td>T</td>\n",
       "      <td>T</td>\n",
       "      <td>T</td>\n",
       "      <td>T</td>\n",
       "      <td>Full</td>\n",
       "      <td>Low</td>\n",
       "      <td>F</td>\n",
       "      <td>F</td>\n",
       "      <td>Burger</td>\n",
       "      <td>40</td>\n",
       "      <td>T</td>\n",
       "    </tr>\n",
       "  </tbody>\n",
       "</table>\n",
       "</div>"
      ],
      "text/plain": [
       "   Unnamed: 0 Alternate Bar Friday Hungry Patrons   Price Raining Reservation  \\\n",
       "0          X1         T   F      F      T    Some    High       F           T   \n",
       "1          X2         T   F      F      T    Full     Low       F           F   \n",
       "2          X3         F   T      F      F    Some     Low       F           F   \n",
       "3          X4         T   F      T      T    Full     Low       F           F   \n",
       "4          X5         T   F      T      F    Full    High       F           T   \n",
       "5          X6         F   T      F      T    Some  Medium       T           T   \n",
       "6          X7         F   T      F      F    None     Low       T           F   \n",
       "7          X8         F   F      F      T    Some  Medium       T           T   \n",
       "8          X9         F   T      T      F    Full     Low       T           F   \n",
       "9         X10         T   T      T      T    Full    High       F           T   \n",
       "10        X11         F   F      F      F    None     Low       F           F   \n",
       "11        X12         T   T      T      T    Full     Low       F           F   \n",
       "\n",
       "       Type  WaitEstimate Wait  \n",
       "0    French             8    T  \n",
       "1      Thai            40    F  \n",
       "2    Burger             8    T  \n",
       "3      Thai            12    T  \n",
       "4    French            70    F  \n",
       "5   Italian             3    T  \n",
       "6    Burger             7    F  \n",
       "7      Thai             6    T  \n",
       "8    Burger            80    F  \n",
       "9   Italian            20    F  \n",
       "10     Thai             8    F  \n",
       "11   Burger            40    T  "
      ]
     },
     "execution_count": 86,
     "metadata": {},
     "output_type": "execute_result"
    }
   ],
   "source": [
    "example = pd.read_csv('https://raw.githubusercontent.com/aubreyyy24/HW2_data/main/data.csv')\n",
    "example"
   ]
  },
  {
   "cell_type": "code",
   "execution_count": 87,
   "metadata": {
    "id": "3Kzf-VIW50wi"
   },
   "outputs": [],
   "source": [
    "example = example.drop(['Unnamed: 0'], axis=1)"
   ]
  },
  {
   "cell_type": "code",
   "execution_count": 88,
   "metadata": {
    "colab": {
     "base_uri": "https://localhost:8080/",
     "height": 421
    },
    "id": "2VZ0rIII1YEV",
    "outputId": "e30f2d11-875c-4288-ea58-f567981b695d"
   },
   "outputs": [
    {
     "data": {
      "text/html": [
       "<div>\n",
       "<style scoped>\n",
       "    .dataframe tbody tr th:only-of-type {\n",
       "        vertical-align: middle;\n",
       "    }\n",
       "\n",
       "    .dataframe tbody tr th {\n",
       "        vertical-align: top;\n",
       "    }\n",
       "\n",
       "    .dataframe thead th {\n",
       "        text-align: right;\n",
       "    }\n",
       "</style>\n",
       "<table border=\"1\" class=\"dataframe\">\n",
       "  <thead>\n",
       "    <tr style=\"text-align: right;\">\n",
       "      <th></th>\n",
       "      <th>Alternate</th>\n",
       "      <th>Bar</th>\n",
       "      <th>Friday</th>\n",
       "      <th>Hungry</th>\n",
       "      <th>Patrons</th>\n",
       "      <th>Price</th>\n",
       "      <th>Raining</th>\n",
       "      <th>Reservation</th>\n",
       "      <th>Type</th>\n",
       "      <th>WaitEstimate</th>\n",
       "      <th>Wait</th>\n",
       "    </tr>\n",
       "  </thead>\n",
       "  <tbody>\n",
       "    <tr>\n",
       "      <th>0</th>\n",
       "      <td>1</td>\n",
       "      <td>0</td>\n",
       "      <td>0</td>\n",
       "      <td>1</td>\n",
       "      <td>2</td>\n",
       "      <td>0</td>\n",
       "      <td>0</td>\n",
       "      <td>1</td>\n",
       "      <td>1</td>\n",
       "      <td>8</td>\n",
       "      <td>T</td>\n",
       "    </tr>\n",
       "    <tr>\n",
       "      <th>1</th>\n",
       "      <td>1</td>\n",
       "      <td>0</td>\n",
       "      <td>0</td>\n",
       "      <td>1</td>\n",
       "      <td>0</td>\n",
       "      <td>1</td>\n",
       "      <td>0</td>\n",
       "      <td>0</td>\n",
       "      <td>3</td>\n",
       "      <td>40</td>\n",
       "      <td>F</td>\n",
       "    </tr>\n",
       "    <tr>\n",
       "      <th>2</th>\n",
       "      <td>0</td>\n",
       "      <td>1</td>\n",
       "      <td>0</td>\n",
       "      <td>0</td>\n",
       "      <td>2</td>\n",
       "      <td>1</td>\n",
       "      <td>0</td>\n",
       "      <td>0</td>\n",
       "      <td>0</td>\n",
       "      <td>8</td>\n",
       "      <td>T</td>\n",
       "    </tr>\n",
       "    <tr>\n",
       "      <th>3</th>\n",
       "      <td>1</td>\n",
       "      <td>0</td>\n",
       "      <td>1</td>\n",
       "      <td>1</td>\n",
       "      <td>0</td>\n",
       "      <td>1</td>\n",
       "      <td>0</td>\n",
       "      <td>0</td>\n",
       "      <td>3</td>\n",
       "      <td>12</td>\n",
       "      <td>T</td>\n",
       "    </tr>\n",
       "    <tr>\n",
       "      <th>4</th>\n",
       "      <td>1</td>\n",
       "      <td>0</td>\n",
       "      <td>1</td>\n",
       "      <td>0</td>\n",
       "      <td>0</td>\n",
       "      <td>0</td>\n",
       "      <td>0</td>\n",
       "      <td>1</td>\n",
       "      <td>1</td>\n",
       "      <td>70</td>\n",
       "      <td>F</td>\n",
       "    </tr>\n",
       "    <tr>\n",
       "      <th>5</th>\n",
       "      <td>0</td>\n",
       "      <td>1</td>\n",
       "      <td>0</td>\n",
       "      <td>1</td>\n",
       "      <td>2</td>\n",
       "      <td>2</td>\n",
       "      <td>1</td>\n",
       "      <td>1</td>\n",
       "      <td>2</td>\n",
       "      <td>3</td>\n",
       "      <td>T</td>\n",
       "    </tr>\n",
       "    <tr>\n",
       "      <th>6</th>\n",
       "      <td>0</td>\n",
       "      <td>1</td>\n",
       "      <td>0</td>\n",
       "      <td>0</td>\n",
       "      <td>1</td>\n",
       "      <td>1</td>\n",
       "      <td>1</td>\n",
       "      <td>0</td>\n",
       "      <td>0</td>\n",
       "      <td>7</td>\n",
       "      <td>F</td>\n",
       "    </tr>\n",
       "    <tr>\n",
       "      <th>7</th>\n",
       "      <td>0</td>\n",
       "      <td>0</td>\n",
       "      <td>0</td>\n",
       "      <td>1</td>\n",
       "      <td>2</td>\n",
       "      <td>2</td>\n",
       "      <td>1</td>\n",
       "      <td>1</td>\n",
       "      <td>3</td>\n",
       "      <td>6</td>\n",
       "      <td>T</td>\n",
       "    </tr>\n",
       "    <tr>\n",
       "      <th>8</th>\n",
       "      <td>0</td>\n",
       "      <td>1</td>\n",
       "      <td>1</td>\n",
       "      <td>0</td>\n",
       "      <td>0</td>\n",
       "      <td>1</td>\n",
       "      <td>1</td>\n",
       "      <td>0</td>\n",
       "      <td>0</td>\n",
       "      <td>80</td>\n",
       "      <td>F</td>\n",
       "    </tr>\n",
       "    <tr>\n",
       "      <th>9</th>\n",
       "      <td>1</td>\n",
       "      <td>1</td>\n",
       "      <td>1</td>\n",
       "      <td>1</td>\n",
       "      <td>0</td>\n",
       "      <td>0</td>\n",
       "      <td>0</td>\n",
       "      <td>1</td>\n",
       "      <td>2</td>\n",
       "      <td>20</td>\n",
       "      <td>F</td>\n",
       "    </tr>\n",
       "    <tr>\n",
       "      <th>10</th>\n",
       "      <td>0</td>\n",
       "      <td>0</td>\n",
       "      <td>0</td>\n",
       "      <td>0</td>\n",
       "      <td>1</td>\n",
       "      <td>1</td>\n",
       "      <td>0</td>\n",
       "      <td>0</td>\n",
       "      <td>3</td>\n",
       "      <td>8</td>\n",
       "      <td>F</td>\n",
       "    </tr>\n",
       "    <tr>\n",
       "      <th>11</th>\n",
       "      <td>1</td>\n",
       "      <td>1</td>\n",
       "      <td>1</td>\n",
       "      <td>1</td>\n",
       "      <td>0</td>\n",
       "      <td>1</td>\n",
       "      <td>0</td>\n",
       "      <td>0</td>\n",
       "      <td>0</td>\n",
       "      <td>40</td>\n",
       "      <td>T</td>\n",
       "    </tr>\n",
       "  </tbody>\n",
       "</table>\n",
       "</div>"
      ],
      "text/plain": [
       "    Alternate  Bar  Friday  Hungry  Patrons  Price  Raining  Reservation  \\\n",
       "0           1    0       0       1        2      0        0            1   \n",
       "1           1    0       0       1        0      1        0            0   \n",
       "2           0    1       0       0        2      1        0            0   \n",
       "3           1    0       1       1        0      1        0            0   \n",
       "4           1    0       1       0        0      0        0            1   \n",
       "5           0    1       0       1        2      2        1            1   \n",
       "6           0    1       0       0        1      1        1            0   \n",
       "7           0    0       0       1        2      2        1            1   \n",
       "8           0    1       1       0        0      1        1            0   \n",
       "9           1    1       1       1        0      0        0            1   \n",
       "10          0    0       0       0        1      1        0            0   \n",
       "11          1    1       1       1        0      1        0            0   \n",
       "\n",
       "    Type  WaitEstimate Wait  \n",
       "0      1             8    T  \n",
       "1      3            40    F  \n",
       "2      0             8    T  \n",
       "3      3            12    T  \n",
       "4      1            70    F  \n",
       "5      2             3    T  \n",
       "6      0             7    F  \n",
       "7      3             6    T  \n",
       "8      0            80    F  \n",
       "9      2            20    F  \n",
       "10     3             8    F  \n",
       "11     0            40    T  "
      ]
     },
     "execution_count": 88,
     "metadata": {},
     "output_type": "execute_result"
    }
   ],
   "source": [
    "# change the string categorical to integer labels\n",
    "from sklearn.preprocessing import LabelEncoder\n",
    "labelencoder = LabelEncoder()\n",
    "\n",
    "example['Alternate'] = labelencoder.fit_transform(example['Alternate'])\n",
    "example['Bar'] = labelencoder.fit_transform(example['Bar'])\n",
    "example['Friday'] = labelencoder.fit_transform(example['Friday'])\n",
    "example['Hungry'] = labelencoder.fit_transform(example['Hungry'])\n",
    "example['Patrons'] = labelencoder.fit_transform(example['Patrons'])\n",
    "example['Price'] = labelencoder.fit_transform(example['Price'])\n",
    "example['Raining'] = labelencoder.fit_transform(example['Raining'])\n",
    "example['Reservation'] = labelencoder.fit_transform(example['Reservation'])\n",
    "example['Type'] = labelencoder.fit_transform(example['Type'])\n",
    "\n",
    "example"
   ]
  },
  {
   "cell_type": "code",
   "execution_count": 89,
   "metadata": {},
   "outputs": [
    {
     "data": {
      "text/plain": [
       "Index(['Alternate', 'Bar', 'Friday', 'Hungry', 'Patrons', 'Price', 'Raining',\n",
       "       'Reservation', 'Type', 'WaitEstimate', 'Wait'],\n",
       "      dtype='object')"
      ]
     },
     "execution_count": 89,
     "metadata": {},
     "output_type": "execute_result"
    }
   ],
   "source": [
    "example.columns"
   ]
  },
  {
   "cell_type": "markdown",
   "metadata": {
    "id": "v3c8J0ABQ7v0"
   },
   "source": [
    "## Calculating the Entropy *(20%)*\n"
   ]
  },
  {
   "cell_type": "code",
   "execution_count": 90,
   "metadata": {
    "id": "WyGQn_XJnyoc"
   },
   "outputs": [],
   "source": [
    "# split the data by given attribute and its threshold\n",
    "def partition(data, column, threshold):\n",
    "    \n",
    "#   \"\"\"\n",
    "#   The *partition* function will split the input data into 2 branches.\n",
    "#     args:\n",
    "#     *   data(DataFrame): the input data\n",
    "#     *   column(str): the attribute(column name)\n",
    "#     *   threshold(float): the column's threshold for splitting the data\n",
    "#     returns:\n",
    "#     *   match_branch(DataFrame): the divided data that matches the assigned column's threshold\n",
    "#     *   false_branch(DataFrame): the divided data that doesn't match the assigned column's threshold\n",
    "#   \"\"\"\n",
    "\n",
    "        match_branch =data[data[column] <= threshold]\n",
    "        false_branch = data[data[column] > threshold]\n",
    "\n",
    "\n",
    "        return match_branch, false_branch"
   ]
  },
  {
   "cell_type": "markdown",
   "metadata": {
    "id": "bEzlw4y5AK-7"
   },
   "source": [
    "If we try *partition(example, 'Patrons', 1.5)*:\n",
    "\n",
    "split example to \n",
    "\n",
    "match_left(Patrons<= 1.5) (Patrons != Some) and  \n",
    "false_right(Patrons > 1.5) (Patrons == Some)\n",
    "\n",
    "column: Patrons, threshold: 1.5\n",
    "\n"
   ]
  },
  {
   "cell_type": "code",
   "execution_count": 91,
   "metadata": {
    "colab": {
     "base_uri": "https://localhost:8080/",
     "height": 238
    },
    "id": "h-5MqfHcJ2Id",
    "outputId": "c6425c87-a935-4f55-8510-90dc05769987"
   },
   "outputs": [
    {
     "name": "stdout",
     "output_type": "stream",
     "text": [
      "8\n",
      "(4, 11)\n",
      "12\n"
     ]
    },
    {
     "data": {
      "text/html": [
       "<div>\n",
       "<style scoped>\n",
       "    .dataframe tbody tr th:only-of-type {\n",
       "        vertical-align: middle;\n",
       "    }\n",
       "\n",
       "    .dataframe tbody tr th {\n",
       "        vertical-align: top;\n",
       "    }\n",
       "\n",
       "    .dataframe thead th {\n",
       "        text-align: right;\n",
       "    }\n",
       "</style>\n",
       "<table border=\"1\" class=\"dataframe\">\n",
       "  <thead>\n",
       "    <tr style=\"text-align: right;\">\n",
       "      <th></th>\n",
       "      <th>Alternate</th>\n",
       "      <th>Bar</th>\n",
       "      <th>Friday</th>\n",
       "      <th>Hungry</th>\n",
       "      <th>Patrons</th>\n",
       "      <th>Price</th>\n",
       "      <th>Raining</th>\n",
       "      <th>Reservation</th>\n",
       "      <th>Type</th>\n",
       "      <th>WaitEstimate</th>\n",
       "      <th>Wait</th>\n",
       "    </tr>\n",
       "  </thead>\n",
       "  <tbody>\n",
       "    <tr>\n",
       "      <th>0</th>\n",
       "      <td>1</td>\n",
       "      <td>0</td>\n",
       "      <td>0</td>\n",
       "      <td>1</td>\n",
       "      <td>2</td>\n",
       "      <td>0</td>\n",
       "      <td>0</td>\n",
       "      <td>1</td>\n",
       "      <td>1</td>\n",
       "      <td>8</td>\n",
       "      <td>T</td>\n",
       "    </tr>\n",
       "    <tr>\n",
       "      <th>2</th>\n",
       "      <td>0</td>\n",
       "      <td>1</td>\n",
       "      <td>0</td>\n",
       "      <td>0</td>\n",
       "      <td>2</td>\n",
       "      <td>1</td>\n",
       "      <td>0</td>\n",
       "      <td>0</td>\n",
       "      <td>0</td>\n",
       "      <td>8</td>\n",
       "      <td>T</td>\n",
       "    </tr>\n",
       "    <tr>\n",
       "      <th>5</th>\n",
       "      <td>0</td>\n",
       "      <td>1</td>\n",
       "      <td>0</td>\n",
       "      <td>1</td>\n",
       "      <td>2</td>\n",
       "      <td>2</td>\n",
       "      <td>1</td>\n",
       "      <td>1</td>\n",
       "      <td>2</td>\n",
       "      <td>3</td>\n",
       "      <td>T</td>\n",
       "    </tr>\n",
       "    <tr>\n",
       "      <th>7</th>\n",
       "      <td>0</td>\n",
       "      <td>0</td>\n",
       "      <td>0</td>\n",
       "      <td>1</td>\n",
       "      <td>2</td>\n",
       "      <td>2</td>\n",
       "      <td>1</td>\n",
       "      <td>1</td>\n",
       "      <td>3</td>\n",
       "      <td>6</td>\n",
       "      <td>T</td>\n",
       "    </tr>\n",
       "  </tbody>\n",
       "</table>\n",
       "</div>"
      ],
      "text/plain": [
       "   Alternate  Bar  Friday  Hungry  Patrons  Price  Raining  Reservation  Type  \\\n",
       "0          1    0       0       1        2      0        0            1     1   \n",
       "2          0    1       0       0        2      1        0            0     0   \n",
       "5          0    1       0       1        2      2        1            1     2   \n",
       "7          0    0       0       1        2      2        1            1     3   \n",
       "\n",
       "   WaitEstimate Wait  \n",
       "0             8    T  \n",
       "2             8    T  \n",
       "5             3    T  \n",
       "7             6    T  "
      ]
     },
     "execution_count": 91,
     "metadata": {},
     "output_type": "execute_result"
    }
   ],
   "source": [
    "match_left, false_right = partition(example, 'Patrons', 1.5)\n",
    "print(len(match_left))\n",
    "print(false_right.shape)\n",
    "print(len(example))\n",
    "false_right"
   ]
  },
  {
   "cell_type": "code",
   "execution_count": 92,
   "metadata": {
    "id": "svjMYA_6VmoN"
   },
   "outputs": [],
   "source": [
    "def entropy(data):\n",
    "    n = len(data)\n",
    "    match = data[data['Wait']=='T']\n",
    "    if(len(match)==n):\n",
    "        return 0\n",
    "    if(len(match)==0):\n",
    "        return 0\n",
    "    true = len(match)/n\n",
    "    false = (n-len(match))/n\n",
    "    t = np.log2(true)\n",
    "    f = np.log2(false)\n",
    "#   \"\"\"\n",
    "#   The *entropy* function will calculate the entropy of the node(data)\n",
    "#   args:\n",
    "#   *    data(DataFrame): the data you're calculating for the entropy\n",
    "#   output:\n",
    "#   *    entropy(float): the node(data)'s entropy     \n",
    "#   \"\"\"\n",
    "    entropy = 0-(true*t)-(false*f)\n",
    "\n",
    "    return entropy"
   ]
  },
  {
   "cell_type": "code",
   "execution_count": 93,
   "metadata": {},
   "outputs": [
    {
     "name": "stdout",
     "output_type": "stream",
     "text": [
      "0.7219280948873623\n"
     ]
    }
   ],
   "source": [
    "match, false = partition(example, 'Hungry', 0.5)\n",
    "entropy1 = entropy(match)\n",
    "print(entropy1)\n",
    "# 0.7219280948873623"
   ]
  },
  {
   "cell_type": "code",
   "execution_count": 94,
   "metadata": {},
   "outputs": [
    {
     "data": {
      "text/html": [
       "<div>\n",
       "<style scoped>\n",
       "    .dataframe tbody tr th:only-of-type {\n",
       "        vertical-align: middle;\n",
       "    }\n",
       "\n",
       "    .dataframe tbody tr th {\n",
       "        vertical-align: top;\n",
       "    }\n",
       "\n",
       "    .dataframe thead th {\n",
       "        text-align: right;\n",
       "    }\n",
       "</style>\n",
       "<table border=\"1\" class=\"dataframe\">\n",
       "  <thead>\n",
       "    <tr style=\"text-align: right;\">\n",
       "      <th></th>\n",
       "      <th>Alternate</th>\n",
       "      <th>Bar</th>\n",
       "      <th>Friday</th>\n",
       "      <th>Hungry</th>\n",
       "      <th>Patrons</th>\n",
       "      <th>Price</th>\n",
       "      <th>Raining</th>\n",
       "      <th>Reservation</th>\n",
       "      <th>Type</th>\n",
       "      <th>WaitEstimate</th>\n",
       "      <th>Wait</th>\n",
       "    </tr>\n",
       "  </thead>\n",
       "  <tbody>\n",
       "    <tr>\n",
       "      <th>2</th>\n",
       "      <td>0</td>\n",
       "      <td>1</td>\n",
       "      <td>0</td>\n",
       "      <td>0</td>\n",
       "      <td>2</td>\n",
       "      <td>1</td>\n",
       "      <td>0</td>\n",
       "      <td>0</td>\n",
       "      <td>0</td>\n",
       "      <td>8</td>\n",
       "      <td>T</td>\n",
       "    </tr>\n",
       "    <tr>\n",
       "      <th>4</th>\n",
       "      <td>1</td>\n",
       "      <td>0</td>\n",
       "      <td>1</td>\n",
       "      <td>0</td>\n",
       "      <td>0</td>\n",
       "      <td>0</td>\n",
       "      <td>0</td>\n",
       "      <td>1</td>\n",
       "      <td>1</td>\n",
       "      <td>70</td>\n",
       "      <td>F</td>\n",
       "    </tr>\n",
       "    <tr>\n",
       "      <th>6</th>\n",
       "      <td>0</td>\n",
       "      <td>1</td>\n",
       "      <td>0</td>\n",
       "      <td>0</td>\n",
       "      <td>1</td>\n",
       "      <td>1</td>\n",
       "      <td>1</td>\n",
       "      <td>0</td>\n",
       "      <td>0</td>\n",
       "      <td>7</td>\n",
       "      <td>F</td>\n",
       "    </tr>\n",
       "    <tr>\n",
       "      <th>8</th>\n",
       "      <td>0</td>\n",
       "      <td>1</td>\n",
       "      <td>1</td>\n",
       "      <td>0</td>\n",
       "      <td>0</td>\n",
       "      <td>1</td>\n",
       "      <td>1</td>\n",
       "      <td>0</td>\n",
       "      <td>0</td>\n",
       "      <td>80</td>\n",
       "      <td>F</td>\n",
       "    </tr>\n",
       "    <tr>\n",
       "      <th>10</th>\n",
       "      <td>0</td>\n",
       "      <td>0</td>\n",
       "      <td>0</td>\n",
       "      <td>0</td>\n",
       "      <td>1</td>\n",
       "      <td>1</td>\n",
       "      <td>0</td>\n",
       "      <td>0</td>\n",
       "      <td>3</td>\n",
       "      <td>8</td>\n",
       "      <td>F</td>\n",
       "    </tr>\n",
       "  </tbody>\n",
       "</table>\n",
       "</div>"
      ],
      "text/plain": [
       "    Alternate  Bar  Friday  Hungry  Patrons  Price  Raining  Reservation  \\\n",
       "2           0    1       0       0        2      1        0            0   \n",
       "4           1    0       1       0        0      0        0            1   \n",
       "6           0    1       0       0        1      1        1            0   \n",
       "8           0    1       1       0        0      1        1            0   \n",
       "10          0    0       0       0        1      1        0            0   \n",
       "\n",
       "    Type  WaitEstimate Wait  \n",
       "2      0             8    T  \n",
       "4      1            70    F  \n",
       "6      0             7    F  \n",
       "8      0            80    F  \n",
       "10     3             8    F  "
      ]
     },
     "execution_count": 94,
     "metadata": {},
     "output_type": "execute_result"
    }
   ],
   "source": [
    "match"
   ]
  },
  {
   "cell_type": "code",
   "execution_count": 95,
   "metadata": {},
   "outputs": [
    {
     "data": {
      "text/html": [
       "<div>\n",
       "<style scoped>\n",
       "    .dataframe tbody tr th:only-of-type {\n",
       "        vertical-align: middle;\n",
       "    }\n",
       "\n",
       "    .dataframe tbody tr th {\n",
       "        vertical-align: top;\n",
       "    }\n",
       "\n",
       "    .dataframe thead th {\n",
       "        text-align: right;\n",
       "    }\n",
       "</style>\n",
       "<table border=\"1\" class=\"dataframe\">\n",
       "  <thead>\n",
       "    <tr style=\"text-align: right;\">\n",
       "      <th></th>\n",
       "      <th>Alternate</th>\n",
       "      <th>Bar</th>\n",
       "      <th>Friday</th>\n",
       "      <th>Hungry</th>\n",
       "      <th>Patrons</th>\n",
       "      <th>Price</th>\n",
       "      <th>Raining</th>\n",
       "      <th>Reservation</th>\n",
       "      <th>Type</th>\n",
       "      <th>WaitEstimate</th>\n",
       "      <th>Wait</th>\n",
       "    </tr>\n",
       "  </thead>\n",
       "  <tbody>\n",
       "    <tr>\n",
       "      <th>0</th>\n",
       "      <td>1</td>\n",
       "      <td>0</td>\n",
       "      <td>0</td>\n",
       "      <td>1</td>\n",
       "      <td>2</td>\n",
       "      <td>0</td>\n",
       "      <td>0</td>\n",
       "      <td>1</td>\n",
       "      <td>1</td>\n",
       "      <td>8</td>\n",
       "      <td>T</td>\n",
       "    </tr>\n",
       "    <tr>\n",
       "      <th>1</th>\n",
       "      <td>1</td>\n",
       "      <td>0</td>\n",
       "      <td>0</td>\n",
       "      <td>1</td>\n",
       "      <td>0</td>\n",
       "      <td>1</td>\n",
       "      <td>0</td>\n",
       "      <td>0</td>\n",
       "      <td>3</td>\n",
       "      <td>40</td>\n",
       "      <td>F</td>\n",
       "    </tr>\n",
       "    <tr>\n",
       "      <th>3</th>\n",
       "      <td>1</td>\n",
       "      <td>0</td>\n",
       "      <td>1</td>\n",
       "      <td>1</td>\n",
       "      <td>0</td>\n",
       "      <td>1</td>\n",
       "      <td>0</td>\n",
       "      <td>0</td>\n",
       "      <td>3</td>\n",
       "      <td>12</td>\n",
       "      <td>T</td>\n",
       "    </tr>\n",
       "    <tr>\n",
       "      <th>5</th>\n",
       "      <td>0</td>\n",
       "      <td>1</td>\n",
       "      <td>0</td>\n",
       "      <td>1</td>\n",
       "      <td>2</td>\n",
       "      <td>2</td>\n",
       "      <td>1</td>\n",
       "      <td>1</td>\n",
       "      <td>2</td>\n",
       "      <td>3</td>\n",
       "      <td>T</td>\n",
       "    </tr>\n",
       "    <tr>\n",
       "      <th>7</th>\n",
       "      <td>0</td>\n",
       "      <td>0</td>\n",
       "      <td>0</td>\n",
       "      <td>1</td>\n",
       "      <td>2</td>\n",
       "      <td>2</td>\n",
       "      <td>1</td>\n",
       "      <td>1</td>\n",
       "      <td>3</td>\n",
       "      <td>6</td>\n",
       "      <td>T</td>\n",
       "    </tr>\n",
       "    <tr>\n",
       "      <th>9</th>\n",
       "      <td>1</td>\n",
       "      <td>1</td>\n",
       "      <td>1</td>\n",
       "      <td>1</td>\n",
       "      <td>0</td>\n",
       "      <td>0</td>\n",
       "      <td>0</td>\n",
       "      <td>1</td>\n",
       "      <td>2</td>\n",
       "      <td>20</td>\n",
       "      <td>F</td>\n",
       "    </tr>\n",
       "    <tr>\n",
       "      <th>11</th>\n",
       "      <td>1</td>\n",
       "      <td>1</td>\n",
       "      <td>1</td>\n",
       "      <td>1</td>\n",
       "      <td>0</td>\n",
       "      <td>1</td>\n",
       "      <td>0</td>\n",
       "      <td>0</td>\n",
       "      <td>0</td>\n",
       "      <td>40</td>\n",
       "      <td>T</td>\n",
       "    </tr>\n",
       "  </tbody>\n",
       "</table>\n",
       "</div>"
      ],
      "text/plain": [
       "    Alternate  Bar  Friday  Hungry  Patrons  Price  Raining  Reservation  \\\n",
       "0           1    0       0       1        2      0        0            1   \n",
       "1           1    0       0       1        0      1        0            0   \n",
       "3           1    0       1       1        0      1        0            0   \n",
       "5           0    1       0       1        2      2        1            1   \n",
       "7           0    0       0       1        2      2        1            1   \n",
       "9           1    1       1       1        0      0        0            1   \n",
       "11          1    1       1       1        0      1        0            0   \n",
       "\n",
       "    Type  WaitEstimate Wait  \n",
       "0      1             8    T  \n",
       "1      3            40    F  \n",
       "3      3            12    T  \n",
       "5      2             3    T  \n",
       "7      3             6    T  \n",
       "9      2            20    F  \n",
       "11     0            40    T  "
      ]
     },
     "execution_count": 95,
     "metadata": {},
     "output_type": "execute_result"
    }
   ],
   "source": [
    "false"
   ]
  },
  {
   "cell_type": "markdown",
   "metadata": {
    "id": "yBvTDwJwfVY7"
   },
   "source": [
    "An example of the output from entropy (Use this to check if your output is correct): "
   ]
  },
  {
   "cell_type": "code",
   "execution_count": 96,
   "metadata": {
    "id": "69Vj7RELq7eF"
   },
   "outputs": [],
   "source": [
    "#implementation 1: calculate the entropy of 'false' data\n",
    "ans_entropy = entropy(false)"
   ]
  },
  {
   "cell_type": "code",
   "execution_count": 97,
   "metadata": {},
   "outputs": [
    {
     "data": {
      "text/plain": [
       "0.863120568566631"
      ]
     },
     "execution_count": 97,
     "metadata": {},
     "output_type": "execute_result"
    }
   ],
   "source": [
    "ans_entropy"
   ]
  },
  {
   "cell_type": "code",
   "execution_count": 98,
   "metadata": {},
   "outputs": [
    {
     "data": {
      "text/plain": [
       "0"
      ]
     },
     "execution_count": 98,
     "metadata": {},
     "output_type": "execute_result"
    }
   ],
   "source": [
    "entropy(false_right)"
   ]
  },
  {
   "cell_type": "code",
   "execution_count": 99,
   "metadata": {},
   "outputs": [
    {
     "data": {
      "text/plain": [
       "array([ 3,  6,  7,  8, 12, 20, 40, 70, 80])"
      ]
     },
     "execution_count": 99,
     "metadata": {},
     "output_type": "execute_result"
    }
   ],
   "source": [
    "a = np.sort(example['WaitEstimate'])\n",
    "b = np.unique(a)\n",
    "b"
   ]
  },
  {
   "cell_type": "code",
   "execution_count": 100,
   "metadata": {},
   "outputs": [
    {
     "name": "stdout",
     "output_type": "stream",
     "text": [
      "3\n"
     ]
    },
    {
     "data": {
      "text/plain": [
       "9"
      ]
     },
     "execution_count": 100,
     "metadata": {},
     "output_type": "execute_result"
    }
   ],
   "source": [
    "print(b[0])\n",
    "len(b)"
   ]
  },
  {
   "cell_type": "code",
   "execution_count": 101,
   "metadata": {},
   "outputs": [],
   "source": [
    "def mean(b):\n",
    "    map = []\n",
    "    for i in range(len(b)-1):\n",
    "        m = (b[i]+b[i+1])/2\n",
    "        map.append(m)\n",
    "    return map"
   ]
  },
  {
   "cell_type": "markdown",
   "metadata": {
    "id": "mR4wP6nOVOUE"
   },
   "source": [
    "## Find the Best Split *(20%)*"
   ]
  },
  {
   "cell_type": "code",
   "execution_count": 102,
   "metadata": {
    "id": "PVcFND4BG4Zx"
   },
   "outputs": [],
   "source": [
    "# search for the best attribute and the value(threshold) to split the data\n",
    "def findBestSplit(data):\n",
    "#     \"\"\"\n",
    "#     The *findBestSplit* function finds the best combination of attribute and value(with the largest reduction in entropy) to split the data.\n",
    "#     args:\n",
    "#     *   data(DataFrame): the data you try to split(build the decision tree)\n",
    "#     output:\n",
    "#     *   column_best(str): the attribute(column) split with the largest reduction in entropy\n",
    "#     *   value_best(float): the value(threshold) of the column_best attribute to split the data\n",
    "#     \"\"\"\n",
    "    all_entropy = 9999        #the overall entropy : save the value of the smallest entropy\n",
    "    column_best = 0\n",
    "    value_best = 0\n",
    "    att = data.drop(['Wait'],axis=1)\n",
    "    \n",
    "    for item in att.columns:\n",
    "            a = []\n",
    "            a = np.sort(data[item])\n",
    "            b = np.unique(a)\n",
    "            th = mean(b)\n",
    "            for i in th:\n",
    "                match, false = partition(data ,item, i)\n",
    "                olden = entropy(data)\n",
    "                en = entropy(false)\n",
    "                leften = entropy(match)\n",
    "#                 print(item)\n",
    "#                 print(i)\n",
    "# #                 print(len(data))\n",
    "# #                 print(len(data[data['Wait']=='T']))\n",
    "# #                 print(len(data[data['Wait']=='F']))\n",
    "#                 print(len(match))\n",
    "#                 print(len(false))\n",
    "# # #                 print(olden)\n",
    "#                 print(leften)\n",
    "#                 print(en)\n",
    "#                 ig = en\n",
    "                ig = (len(match)/len(data))*leften+(len(false)/len(data))*en\n",
    "#                 print(ig)\n",
    "                if(ig<all_entropy):\n",
    "                    all_entropy = ig\n",
    "                    column_best = item\n",
    "                    value_best = i\n",
    "            \n",
    "    \n",
    "    return column_best, value_best\n",
    "  "
   ]
  },
  {
   "cell_type": "markdown",
   "metadata": {
    "id": "H73vwEBPfB67"
   },
   "source": [
    "An example of the output from findBestSplit (Use this to check if your output is correct):"
   ]
  },
  {
   "cell_type": "code",
   "execution_count": 103,
   "metadata": {
    "colab": {
     "base_uri": "https://localhost:8080/"
    },
    "id": "2y9_0MwR9IgH",
    "outputId": "fd2dcad8-01a1-47ee-aecf-b0da34b46541"
   },
   "outputs": [
    {
     "name": "stdout",
     "output_type": "stream",
     "text": [
      "Patrons\n",
      "1.5\n"
     ]
    }
   ],
   "source": [
    "column_best, value_best = findBestSplit(example)\n",
    "print(column_best)\n",
    "print(value_best)"
   ]
  },
  {
   "cell_type": "code",
   "execution_count": 104,
   "metadata": {},
   "outputs": [
    {
     "data": {
      "text/html": [
       "<div>\n",
       "<style scoped>\n",
       "    .dataframe tbody tr th:only-of-type {\n",
       "        vertical-align: middle;\n",
       "    }\n",
       "\n",
       "    .dataframe tbody tr th {\n",
       "        vertical-align: top;\n",
       "    }\n",
       "\n",
       "    .dataframe thead th {\n",
       "        text-align: right;\n",
       "    }\n",
       "</style>\n",
       "<table border=\"1\" class=\"dataframe\">\n",
       "  <thead>\n",
       "    <tr style=\"text-align: right;\">\n",
       "      <th></th>\n",
       "      <th>Alternate</th>\n",
       "      <th>Bar</th>\n",
       "      <th>Friday</th>\n",
       "      <th>Hungry</th>\n",
       "      <th>Patrons</th>\n",
       "      <th>Price</th>\n",
       "      <th>Raining</th>\n",
       "      <th>Reservation</th>\n",
       "      <th>Type</th>\n",
       "      <th>WaitEstimate</th>\n",
       "      <th>Wait</th>\n",
       "    </tr>\n",
       "  </thead>\n",
       "  <tbody>\n",
       "    <tr>\n",
       "      <th>0</th>\n",
       "      <td>1</td>\n",
       "      <td>0</td>\n",
       "      <td>0</td>\n",
       "      <td>1</td>\n",
       "      <td>2</td>\n",
       "      <td>0</td>\n",
       "      <td>0</td>\n",
       "      <td>1</td>\n",
       "      <td>1</td>\n",
       "      <td>8</td>\n",
       "      <td>T</td>\n",
       "    </tr>\n",
       "    <tr>\n",
       "      <th>1</th>\n",
       "      <td>1</td>\n",
       "      <td>0</td>\n",
       "      <td>0</td>\n",
       "      <td>1</td>\n",
       "      <td>0</td>\n",
       "      <td>1</td>\n",
       "      <td>0</td>\n",
       "      <td>0</td>\n",
       "      <td>3</td>\n",
       "      <td>40</td>\n",
       "      <td>F</td>\n",
       "    </tr>\n",
       "    <tr>\n",
       "      <th>3</th>\n",
       "      <td>1</td>\n",
       "      <td>0</td>\n",
       "      <td>1</td>\n",
       "      <td>1</td>\n",
       "      <td>0</td>\n",
       "      <td>1</td>\n",
       "      <td>0</td>\n",
       "      <td>0</td>\n",
       "      <td>3</td>\n",
       "      <td>12</td>\n",
       "      <td>T</td>\n",
       "    </tr>\n",
       "    <tr>\n",
       "      <th>5</th>\n",
       "      <td>0</td>\n",
       "      <td>1</td>\n",
       "      <td>0</td>\n",
       "      <td>1</td>\n",
       "      <td>2</td>\n",
       "      <td>2</td>\n",
       "      <td>1</td>\n",
       "      <td>1</td>\n",
       "      <td>2</td>\n",
       "      <td>3</td>\n",
       "      <td>T</td>\n",
       "    </tr>\n",
       "    <tr>\n",
       "      <th>7</th>\n",
       "      <td>0</td>\n",
       "      <td>0</td>\n",
       "      <td>0</td>\n",
       "      <td>1</td>\n",
       "      <td>2</td>\n",
       "      <td>2</td>\n",
       "      <td>1</td>\n",
       "      <td>1</td>\n",
       "      <td>3</td>\n",
       "      <td>6</td>\n",
       "      <td>T</td>\n",
       "    </tr>\n",
       "    <tr>\n",
       "      <th>9</th>\n",
       "      <td>1</td>\n",
       "      <td>1</td>\n",
       "      <td>1</td>\n",
       "      <td>1</td>\n",
       "      <td>0</td>\n",
       "      <td>0</td>\n",
       "      <td>0</td>\n",
       "      <td>1</td>\n",
       "      <td>2</td>\n",
       "      <td>20</td>\n",
       "      <td>F</td>\n",
       "    </tr>\n",
       "    <tr>\n",
       "      <th>11</th>\n",
       "      <td>1</td>\n",
       "      <td>1</td>\n",
       "      <td>1</td>\n",
       "      <td>1</td>\n",
       "      <td>0</td>\n",
       "      <td>1</td>\n",
       "      <td>0</td>\n",
       "      <td>0</td>\n",
       "      <td>0</td>\n",
       "      <td>40</td>\n",
       "      <td>T</td>\n",
       "    </tr>\n",
       "  </tbody>\n",
       "</table>\n",
       "</div>"
      ],
      "text/plain": [
       "    Alternate  Bar  Friday  Hungry  Patrons  Price  Raining  Reservation  \\\n",
       "0           1    0       0       1        2      0        0            1   \n",
       "1           1    0       0       1        0      1        0            0   \n",
       "3           1    0       1       1        0      1        0            0   \n",
       "5           0    1       0       1        2      2        1            1   \n",
       "7           0    0       0       1        2      2        1            1   \n",
       "9           1    1       1       1        0      0        0            1   \n",
       "11          1    1       1       1        0      1        0            0   \n",
       "\n",
       "    Type  WaitEstimate Wait  \n",
       "0      1             8    T  \n",
       "1      3            40    F  \n",
       "3      3            12    T  \n",
       "5      2             3    T  \n",
       "7      3             6    T  \n",
       "9      2            20    F  \n",
       "11     0            40    T  "
      ]
     },
     "execution_count": 104,
     "metadata": {},
     "output_type": "execute_result"
    }
   ],
   "source": [
    "false"
   ]
  },
  {
   "cell_type": "code",
   "execution_count": 105,
   "metadata": {
    "id": "NNcKR6tf12hn"
   },
   "outputs": [],
   "source": [
    "#implementation 2: Find the best split of the 'false' data\n",
    "ans_column, ans_value = findBestSplit(false)"
   ]
  },
  {
   "cell_type": "code",
   "execution_count": 106,
   "metadata": {},
   "outputs": [
    {
     "name": "stdout",
     "output_type": "stream",
     "text": [
      "WaitEstimate\n",
      "16.0\n"
     ]
    }
   ],
   "source": [
    "print(ans_column)\n",
    "print(ans_value)"
   ]
  },
  {
   "cell_type": "markdown",
   "metadata": {
    "id": "hD31mGJuVbAx"
   },
   "source": [
    "## Decision Tree Building *(30%)*\n",
    "\n",
    "Use the above functions to help building the decision tree\n",
    "\n",
    "\n",
    "\n"
   ]
  },
  {
   "cell_type": "code",
   "execution_count": 107,
   "metadata": {
    "id": "1PHuRhmoIdnV"
   },
   "outputs": [],
   "source": [
    "def buildTree(df, depth):\n",
    "#   \"\"\"\n",
    "#   The *buildTree* function builds the decision tree\n",
    "#   args:\n",
    "#   *     df(DataFrame): the data you want to apply the decision tree\n",
    "#   *     depth(int) : the depth of your tree\n",
    "#   output:\n",
    "#   *     decisionSubTree(dict): the decision tree structure including root, branch, leaf(with the attributes and thresholds)\n",
    "#   *     features(list): the features(attributes) name in the decision tree structure(from root to branch and leaf)\n",
    "#   *     thresholds(list): the corresponding thresholds for the features in the 'features' list\n",
    "#   \"\"\"\n",
    "    while(depth>0):\n",
    "        column_best, value_best = findBestSplit(df)\n",
    "        left,right = partition(df , column_best, value_best)\n",
    "        print('run')\n",
    "        features.append(column_best)\n",
    "        thresholds.append(value_best)\n",
    "        decisionSubTree.append((entropy(left),column_best,entropy(right)))\n",
    "        if(entropy(left)>0):\n",
    "            buildTree(left,depth-1)\n",
    "        if(entropy(right)>0):\n",
    "            buildTree(right,depth-1)\n",
    "        \n",
    "        return decisionSubTree, features, thresholds\n",
    "  "
   ]
  },
  {
   "cell_type": "markdown",
   "metadata": {
    "id": "RlmycuRYeo4E"
   },
   "source": [
    "An example of the output from buildTree (Use this to check if your output is correct): "
   ]
  },
  {
   "cell_type": "code",
   "execution_count": 108,
   "metadata": {
    "colab": {
     "base_uri": "https://localhost:8080/"
    },
    "id": "HwaWdJ2KaFnz",
    "outputId": "f1206915-1bf7-41f3-c904-d1dd91975721"
   },
   "outputs": [
    {
     "name": "stdout",
     "output_type": "stream",
     "text": [
      "run\n",
      "run\n",
      "run\n",
      "run\n",
      "[(0.8112781244591328, 'Patrons', 0), (0, 'Hungry', 1.0), (0, 'Friday', 0.9182958340544896), (0, 'Price', 0)]\n",
      "['Patrons', 'Hungry', 'Friday', 'Price']\n",
      "[1.5, 0.5, 0.5, 0.5]\n"
     ]
    }
   ],
   "source": [
    "decisionSubTree = []\n",
    "features= []\n",
    "thresholds = []\n",
    "tree,features, thresholds= buildTree(example, 10)\n",
    "print(tree)\n",
    "print(features)\n",
    "print(thresholds)"
   ]
  },
  {
   "cell_type": "code",
   "execution_count": 109,
   "metadata": {
    "id": "S7LcV0jwrvGW"
   },
   "outputs": [
    {
     "name": "stdout",
     "output_type": "stream",
     "text": [
      "run\n",
      "run\n",
      "run\n",
      "run\n"
     ]
    }
   ],
   "source": [
    "#implementation 3: decision tree building (depth=10)\n",
    "decisionSubTree = []\n",
    "features= []\n",
    "thresholds = []\n",
    "ans_tree, ans_features, ans_thresholds = buildTree(example,10)"
   ]
  },
  {
   "cell_type": "code",
   "execution_count": 110,
   "metadata": {
    "id": "oz_UrVDQr0ZO"
   },
   "outputs": [
    {
     "name": "stdout",
     "output_type": "stream",
     "text": [
      "[0.863120568566631, 'WaitEstimate', 16.0, 'Patrons', 'Hungry', 'Friday', 'Price', 1.5, 0.5, 0.5, 0.5]\n"
     ]
    }
   ],
   "source": [
    "#save implementation csv\n",
    "ans_path = STUDENT_ID + '_implementation.csv'\n",
    "\n",
    "imp = []\n",
    "imp.append(ans_entropy)\n",
    "imp.append(ans_column)\n",
    "imp.append(ans_value)\n",
    "for i in range(len(ans_features)):\n",
    "    imp.append(ans_features[i])\n",
    "for m in range(len(ans_thresholds)):\n",
    "    imp.append(ans_thresholds[m])\n",
    "print(imp)\n",
    "pd.DataFrame(imp).to_csv(ans_path, header = None, index = None)"
   ]
  },
  {
   "cell_type": "markdown",
   "metadata": {
    "id": "tniHsNdk6vH5"
   },
   "source": [
    "# **2. Classification with the MIMIC Dataset**\n",
    "In the second part, you need to classify **'hospDIED'(death)** in the MIMIC dataset.\n",
    "\n",
    "Please put the classification result in a csv file. (**[STUDENTID]_prediction.csv**)\n",
    "\n",
    "**Note:** Decision tree is recommended but not mandatory."
   ]
  },
  {
   "cell_type": "markdown",
   "metadata": {
    "id": "yr3B7qWCW6mX"
   },
   "source": [
    "## Prediction (Performance) *(20%)*\n",
    "\n",
    "The **y_test** (hospDIED) of this data is hidden, you need to use the x_test.csv to predict the y_test.\n",
    "\n",
    "**Note:** You **can** now import the packages you need here!"
   ]
  },
  {
   "cell_type": "markdown",
   "metadata": {
    "id": "luEGVyG44_Xe"
   },
   "source": [
    "Get the MIMIC data here!\n",
    "\n",
    "Data Description: \n",
    "\n",
    "[Data Description](https://docs.google.com/spreadsheets/d/1pxqxQFhIcv_hrgWEtwhXE6zBVQ5ISa-13PIhvXMtWCY/edit?usp=sharing) (You can find the data description here.)\n",
    "\n",
    "**Note:**\n",
    "*   You can select the features you want to use.\n",
    "*   You can use any ML models to predict the y_test.\n",
    "\n",
    "  (However, there is a 10% bonus if you **visualize** the decision tree in this part)\n",
    "\n",
    "\n",
    "[ref]: *Johnson, A. E. W., Pollard, T. J., Shen, L., Lehman, L. H., Feng, M., Ghassemi, M., Moody, B., Szolovits, P., Celi, L. A., & Mark, R. G. (2016). MIMIC-III, a freely accessible critical care database. Scientific Data, 3, 160035.*\n"
   ]
  },
  {
   "cell_type": "code",
   "execution_count": 111,
   "metadata": {
    "colab": {
     "base_uri": "https://localhost:8080/",
     "height": 270
    },
    "id": "COe36S4wc-_x",
    "outputId": "2e07ee1f-9dc7-412e-9dd8-de36369b601d"
   },
   "outputs": [
    {
     "data": {
      "text/html": [
       "<div>\n",
       "<style scoped>\n",
       "    .dataframe tbody tr th:only-of-type {\n",
       "        vertical-align: middle;\n",
       "    }\n",
       "\n",
       "    .dataframe tbody tr th {\n",
       "        vertical-align: top;\n",
       "    }\n",
       "\n",
       "    .dataframe thead th {\n",
       "        text-align: right;\n",
       "    }\n",
       "</style>\n",
       "<table border=\"1\" class=\"dataframe\">\n",
       "  <thead>\n",
       "    <tr style=\"text-align: right;\">\n",
       "      <th></th>\n",
       "      <th>subject_id</th>\n",
       "      <th>age</th>\n",
       "      <th>los</th>\n",
       "      <th>CA</th>\n",
       "      <th>DNR</th>\n",
       "      <th>CMO</th>\n",
       "      <th>DNI</th>\n",
       "      <th>female</th>\n",
       "      <th>first_careunit</th>\n",
       "      <th>insurance</th>\n",
       "      <th>...</th>\n",
       "      <th>Enlarged Cardiomediastinum</th>\n",
       "      <th>Fracture</th>\n",
       "      <th>Lung Lesion</th>\n",
       "      <th>Lung Opacity</th>\n",
       "      <th>No Finding</th>\n",
       "      <th>Pleural Effusion</th>\n",
       "      <th>Pleural Other</th>\n",
       "      <th>Pneumonia</th>\n",
       "      <th>Pneumothorax</th>\n",
       "      <th>Support Devices</th>\n",
       "    </tr>\n",
       "  </thead>\n",
       "  <tbody>\n",
       "    <tr>\n",
       "      <th>0</th>\n",
       "      <td>10246985</td>\n",
       "      <td>48</td>\n",
       "      <td>1.826250</td>\n",
       "      <td>0</td>\n",
       "      <td>0</td>\n",
       "      <td>0</td>\n",
       "      <td>0</td>\n",
       "      <td>1</td>\n",
       "      <td>10</td>\n",
       "      <td>1</td>\n",
       "      <td>...</td>\n",
       "      <td>2</td>\n",
       "      <td>9</td>\n",
       "      <td>9</td>\n",
       "      <td>9</td>\n",
       "      <td>9</td>\n",
       "      <td>0</td>\n",
       "      <td>9</td>\n",
       "      <td>9</td>\n",
       "      <td>0</td>\n",
       "      <td>9</td>\n",
       "    </tr>\n",
       "    <tr>\n",
       "      <th>1</th>\n",
       "      <td>14538806</td>\n",
       "      <td>59</td>\n",
       "      <td>10.581123</td>\n",
       "      <td>0</td>\n",
       "      <td>0</td>\n",
       "      <td>0</td>\n",
       "      <td>0</td>\n",
       "      <td>1</td>\n",
       "      <td>10</td>\n",
       "      <td>1</td>\n",
       "      <td>...</td>\n",
       "      <td>4</td>\n",
       "      <td>4</td>\n",
       "      <td>4</td>\n",
       "      <td>4</td>\n",
       "      <td>4</td>\n",
       "      <td>4</td>\n",
       "      <td>4</td>\n",
       "      <td>4</td>\n",
       "      <td>4</td>\n",
       "      <td>4</td>\n",
       "    </tr>\n",
       "    <tr>\n",
       "      <th>2</th>\n",
       "      <td>12850130</td>\n",
       "      <td>73</td>\n",
       "      <td>2.065255</td>\n",
       "      <td>0</td>\n",
       "      <td>0</td>\n",
       "      <td>0</td>\n",
       "      <td>0</td>\n",
       "      <td>1</td>\n",
       "      <td>4</td>\n",
       "      <td>1</td>\n",
       "      <td>...</td>\n",
       "      <td>4</td>\n",
       "      <td>4</td>\n",
       "      <td>4</td>\n",
       "      <td>4</td>\n",
       "      <td>4</td>\n",
       "      <td>4</td>\n",
       "      <td>4</td>\n",
       "      <td>4</td>\n",
       "      <td>4</td>\n",
       "      <td>4</td>\n",
       "    </tr>\n",
       "    <tr>\n",
       "      <th>3</th>\n",
       "      <td>11810761</td>\n",
       "      <td>84</td>\n",
       "      <td>1.435428</td>\n",
       "      <td>0</td>\n",
       "      <td>0</td>\n",
       "      <td>0</td>\n",
       "      <td>0</td>\n",
       "      <td>1</td>\n",
       "      <td>10</td>\n",
       "      <td>3</td>\n",
       "      <td>...</td>\n",
       "      <td>0</td>\n",
       "      <td>9</td>\n",
       "      <td>9</td>\n",
       "      <td>0</td>\n",
       "      <td>9</td>\n",
       "      <td>0</td>\n",
       "      <td>9</td>\n",
       "      <td>1</td>\n",
       "      <td>9</td>\n",
       "      <td>9</td>\n",
       "    </tr>\n",
       "    <tr>\n",
       "      <th>4</th>\n",
       "      <td>13109236</td>\n",
       "      <td>66</td>\n",
       "      <td>1.443414</td>\n",
       "      <td>0</td>\n",
       "      <td>0</td>\n",
       "      <td>0</td>\n",
       "      <td>0</td>\n",
       "      <td>0</td>\n",
       "      <td>1</td>\n",
       "      <td>1</td>\n",
       "      <td>...</td>\n",
       "      <td>4</td>\n",
       "      <td>4</td>\n",
       "      <td>4</td>\n",
       "      <td>4</td>\n",
       "      <td>4</td>\n",
       "      <td>4</td>\n",
       "      <td>4</td>\n",
       "      <td>4</td>\n",
       "      <td>4</td>\n",
       "      <td>4</td>\n",
       "    </tr>\n",
       "  </tbody>\n",
       "</table>\n",
       "<p>5 rows × 83 columns</p>\n",
       "</div>"
      ],
      "text/plain": [
       "   subject_id  age        los  CA  DNR  CMO  DNI  female  first_careunit  \\\n",
       "0    10246985   48   1.826250   0    0    0    0       1              10   \n",
       "1    14538806   59  10.581123   0    0    0    0       1              10   \n",
       "2    12850130   73   2.065255   0    0    0    0       1               4   \n",
       "3    11810761   84   1.435428   0    0    0    0       1              10   \n",
       "4    13109236   66   1.443414   0    0    0    0       0               1   \n",
       "\n",
       "   insurance  ...  Enlarged Cardiomediastinum  Fracture  Lung Lesion  \\\n",
       "0          1  ...                           2         9            9   \n",
       "1          1  ...                           4         4            4   \n",
       "2          1  ...                           4         4            4   \n",
       "3          3  ...                           0         9            9   \n",
       "4          1  ...                           4         4            4   \n",
       "\n",
       "   Lung Opacity  No Finding  Pleural Effusion  Pleural Other  Pneumonia  \\\n",
       "0             9           9                 0              9          9   \n",
       "1             4           4                 4              4          4   \n",
       "2             4           4                 4              4          4   \n",
       "3             0           9                 0              9          1   \n",
       "4             4           4                 4              4          4   \n",
       "\n",
       "   Pneumothorax  Support Devices  \n",
       "0             0                9  \n",
       "1             4                4  \n",
       "2             4                4  \n",
       "3             9                9  \n",
       "4             4                4  \n",
       "\n",
       "[5 rows x 83 columns]"
      ]
     },
     "execution_count": 111,
     "metadata": {},
     "output_type": "execute_result"
    }
   ],
   "source": [
    "#Read data\n",
    "x_train = pd.read_csv('https://raw.githubusercontent.com/aubreyyy24/HW2_data/main/x_train.csv')\n",
    "y_train = pd.read_csv('https://raw.githubusercontent.com/aubreyyy24/HW2_data/main/y_train.csv')\n",
    "x_train = x_train.drop(['indextime'], axis=1)\n",
    "# x_train = x_train.drop(['subject_id'], axis=1)\n",
    "x_train.head()\n",
    "# x_train['hospDIED']"
   ]
  },
  {
   "cell_type": "markdown",
   "metadata": {
    "id": "N2nP69qKhFsB"
   },
   "source": [
    "Complete your model with validation:"
   ]
  },
  {
   "cell_type": "code",
   "execution_count": 112,
   "metadata": {
    "id": "nUcloPGehlTp"
   },
   "outputs": [],
   "source": [
    "#Split the data into training and validation sets\n",
    "#Build you model and evaluate it on your validation set\n",
    "from sklearn.model_selection import train_test_split\n",
    "\n",
    "x = x_train\n",
    "y = y_train\n",
    "x_train, x_test, y_train, y_test = train_test_split(x,y,test_size=0.3,random_state=0)"
   ]
  },
  {
   "cell_type": "markdown",
   "metadata": {
    "id": "V6MagTAmhURi"
   },
   "source": [
    "Make the final prediction from your model:"
   ]
  },
  {
   "cell_type": "code",
   "execution_count": 113,
   "metadata": {},
   "outputs": [
    {
     "data": {
      "text/html": [
       "<div>\n",
       "<style scoped>\n",
       "    .dataframe tbody tr th:only-of-type {\n",
       "        vertical-align: middle;\n",
       "    }\n",
       "\n",
       "    .dataframe tbody tr th {\n",
       "        vertical-align: top;\n",
       "    }\n",
       "\n",
       "    .dataframe thead th {\n",
       "        text-align: right;\n",
       "    }\n",
       "</style>\n",
       "<table border=\"1\" class=\"dataframe\">\n",
       "  <thead>\n",
       "    <tr style=\"text-align: right;\">\n",
       "      <th></th>\n",
       "      <th>hospDIED</th>\n",
       "    </tr>\n",
       "  </thead>\n",
       "  <tbody>\n",
       "    <tr>\n",
       "      <th>18963</th>\n",
       "      <td>0</td>\n",
       "    </tr>\n",
       "    <tr>\n",
       "      <th>11813</th>\n",
       "      <td>0</td>\n",
       "    </tr>\n",
       "    <tr>\n",
       "      <th>10510</th>\n",
       "      <td>0</td>\n",
       "    </tr>\n",
       "    <tr>\n",
       "      <th>11937</th>\n",
       "      <td>0</td>\n",
       "    </tr>\n",
       "    <tr>\n",
       "      <th>11753</th>\n",
       "      <td>0</td>\n",
       "    </tr>\n",
       "    <tr>\n",
       "      <th>...</th>\n",
       "      <td>...</td>\n",
       "    </tr>\n",
       "    <tr>\n",
       "      <th>3033</th>\n",
       "      <td>0</td>\n",
       "    </tr>\n",
       "    <tr>\n",
       "      <th>4006</th>\n",
       "      <td>0</td>\n",
       "    </tr>\n",
       "    <tr>\n",
       "      <th>657</th>\n",
       "      <td>1</td>\n",
       "    </tr>\n",
       "    <tr>\n",
       "      <th>2351</th>\n",
       "      <td>0</td>\n",
       "    </tr>\n",
       "    <tr>\n",
       "      <th>15540</th>\n",
       "      <td>0</td>\n",
       "    </tr>\n",
       "  </tbody>\n",
       "</table>\n",
       "<p>7393 rows × 1 columns</p>\n",
       "</div>"
      ],
      "text/plain": [
       "       hospDIED\n",
       "18963         0\n",
       "11813         0\n",
       "10510         0\n",
       "11937         0\n",
       "11753         0\n",
       "...         ...\n",
       "3033          0\n",
       "4006          0\n",
       "657           1\n",
       "2351          0\n",
       "15540         0\n",
       "\n",
       "[7393 rows x 1 columns]"
      ]
     },
     "execution_count": 113,
     "metadata": {},
     "output_type": "execute_result"
    }
   ],
   "source": [
    "y_test"
   ]
  },
  {
   "cell_type": "code",
   "execution_count": 114,
   "metadata": {},
   "outputs": [
    {
     "data": {
      "text/html": [
       "<div>\n",
       "<style scoped>\n",
       "    .dataframe tbody tr th:only-of-type {\n",
       "        vertical-align: middle;\n",
       "    }\n",
       "\n",
       "    .dataframe tbody tr th {\n",
       "        vertical-align: top;\n",
       "    }\n",
       "\n",
       "    .dataframe thead th {\n",
       "        text-align: right;\n",
       "    }\n",
       "</style>\n",
       "<table border=\"1\" class=\"dataframe\">\n",
       "  <thead>\n",
       "    <tr style=\"text-align: right;\">\n",
       "      <th></th>\n",
       "      <th>subject_id</th>\n",
       "      <th>age</th>\n",
       "      <th>los</th>\n",
       "      <th>CA</th>\n",
       "      <th>DNR</th>\n",
       "      <th>CMO</th>\n",
       "      <th>DNI</th>\n",
       "      <th>female</th>\n",
       "      <th>first_careunit</th>\n",
       "      <th>insurance</th>\n",
       "      <th>...</th>\n",
       "      <th>Enlarged Cardiomediastinum</th>\n",
       "      <th>Fracture</th>\n",
       "      <th>Lung Lesion</th>\n",
       "      <th>Lung Opacity</th>\n",
       "      <th>No Finding</th>\n",
       "      <th>Pleural Effusion</th>\n",
       "      <th>Pleural Other</th>\n",
       "      <th>Pneumonia</th>\n",
       "      <th>Pneumothorax</th>\n",
       "      <th>Support Devices</th>\n",
       "    </tr>\n",
       "  </thead>\n",
       "  <tbody>\n",
       "    <tr>\n",
       "      <th>18963</th>\n",
       "      <td>15989658</td>\n",
       "      <td>70</td>\n",
       "      <td>1.083912</td>\n",
       "      <td>0</td>\n",
       "      <td>0</td>\n",
       "      <td>0</td>\n",
       "      <td>0</td>\n",
       "      <td>0</td>\n",
       "      <td>1</td>\n",
       "      <td>3</td>\n",
       "      <td>...</td>\n",
       "      <td>4</td>\n",
       "      <td>4</td>\n",
       "      <td>4</td>\n",
       "      <td>4</td>\n",
       "      <td>4</td>\n",
       "      <td>4</td>\n",
       "      <td>4</td>\n",
       "      <td>4</td>\n",
       "      <td>4</td>\n",
       "      <td>4</td>\n",
       "    </tr>\n",
       "    <tr>\n",
       "      <th>11813</th>\n",
       "      <td>12834999</td>\n",
       "      <td>89</td>\n",
       "      <td>1.767269</td>\n",
       "      <td>0</td>\n",
       "      <td>0</td>\n",
       "      <td>0</td>\n",
       "      <td>0</td>\n",
       "      <td>0</td>\n",
       "      <td>10</td>\n",
       "      <td>3</td>\n",
       "      <td>...</td>\n",
       "      <td>4</td>\n",
       "      <td>4</td>\n",
       "      <td>4</td>\n",
       "      <td>4</td>\n",
       "      <td>4</td>\n",
       "      <td>4</td>\n",
       "      <td>4</td>\n",
       "      <td>4</td>\n",
       "      <td>4</td>\n",
       "      <td>4</td>\n",
       "    </tr>\n",
       "    <tr>\n",
       "      <th>10510</th>\n",
       "      <td>15196386</td>\n",
       "      <td>37</td>\n",
       "      <td>5.771597</td>\n",
       "      <td>0</td>\n",
       "      <td>0</td>\n",
       "      <td>0</td>\n",
       "      <td>0</td>\n",
       "      <td>0</td>\n",
       "      <td>1</td>\n",
       "      <td>2</td>\n",
       "      <td>...</td>\n",
       "      <td>4</td>\n",
       "      <td>4</td>\n",
       "      <td>4</td>\n",
       "      <td>4</td>\n",
       "      <td>4</td>\n",
       "      <td>4</td>\n",
       "      <td>4</td>\n",
       "      <td>4</td>\n",
       "      <td>4</td>\n",
       "      <td>4</td>\n",
       "    </tr>\n",
       "    <tr>\n",
       "      <th>11937</th>\n",
       "      <td>18857859</td>\n",
       "      <td>53</td>\n",
       "      <td>1.334769</td>\n",
       "      <td>0</td>\n",
       "      <td>0</td>\n",
       "      <td>0</td>\n",
       "      <td>0</td>\n",
       "      <td>0</td>\n",
       "      <td>1</td>\n",
       "      <td>1</td>\n",
       "      <td>...</td>\n",
       "      <td>4</td>\n",
       "      <td>4</td>\n",
       "      <td>4</td>\n",
       "      <td>4</td>\n",
       "      <td>4</td>\n",
       "      <td>4</td>\n",
       "      <td>4</td>\n",
       "      <td>4</td>\n",
       "      <td>4</td>\n",
       "      <td>4</td>\n",
       "    </tr>\n",
       "    <tr>\n",
       "      <th>11753</th>\n",
       "      <td>17794478</td>\n",
       "      <td>80</td>\n",
       "      <td>1.015104</td>\n",
       "      <td>0</td>\n",
       "      <td>0</td>\n",
       "      <td>0</td>\n",
       "      <td>0</td>\n",
       "      <td>0</td>\n",
       "      <td>10</td>\n",
       "      <td>3</td>\n",
       "      <td>...</td>\n",
       "      <td>4</td>\n",
       "      <td>4</td>\n",
       "      <td>4</td>\n",
       "      <td>4</td>\n",
       "      <td>4</td>\n",
       "      <td>4</td>\n",
       "      <td>4</td>\n",
       "      <td>4</td>\n",
       "      <td>4</td>\n",
       "      <td>4</td>\n",
       "    </tr>\n",
       "    <tr>\n",
       "      <th>...</th>\n",
       "      <td>...</td>\n",
       "      <td>...</td>\n",
       "      <td>...</td>\n",
       "      <td>...</td>\n",
       "      <td>...</td>\n",
       "      <td>...</td>\n",
       "      <td>...</td>\n",
       "      <td>...</td>\n",
       "      <td>...</td>\n",
       "      <td>...</td>\n",
       "      <td>...</td>\n",
       "      <td>...</td>\n",
       "      <td>...</td>\n",
       "      <td>...</td>\n",
       "      <td>...</td>\n",
       "      <td>...</td>\n",
       "      <td>...</td>\n",
       "      <td>...</td>\n",
       "      <td>...</td>\n",
       "      <td>...</td>\n",
       "      <td>...</td>\n",
       "    </tr>\n",
       "    <tr>\n",
       "      <th>3033</th>\n",
       "      <td>11660627</td>\n",
       "      <td>82</td>\n",
       "      <td>1.800660</td>\n",
       "      <td>0</td>\n",
       "      <td>0</td>\n",
       "      <td>0</td>\n",
       "      <td>0</td>\n",
       "      <td>1</td>\n",
       "      <td>3</td>\n",
       "      <td>3</td>\n",
       "      <td>...</td>\n",
       "      <td>9</td>\n",
       "      <td>9</td>\n",
       "      <td>9</td>\n",
       "      <td>9</td>\n",
       "      <td>9</td>\n",
       "      <td>9</td>\n",
       "      <td>9</td>\n",
       "      <td>9</td>\n",
       "      <td>9</td>\n",
       "      <td>9</td>\n",
       "    </tr>\n",
       "    <tr>\n",
       "      <th>4006</th>\n",
       "      <td>14252842</td>\n",
       "      <td>66</td>\n",
       "      <td>6.241771</td>\n",
       "      <td>0</td>\n",
       "      <td>0</td>\n",
       "      <td>0</td>\n",
       "      <td>0</td>\n",
       "      <td>0</td>\n",
       "      <td>1</td>\n",
       "      <td>3</td>\n",
       "      <td>...</td>\n",
       "      <td>4</td>\n",
       "      <td>4</td>\n",
       "      <td>4</td>\n",
       "      <td>4</td>\n",
       "      <td>4</td>\n",
       "      <td>4</td>\n",
       "      <td>4</td>\n",
       "      <td>4</td>\n",
       "      <td>4</td>\n",
       "      <td>4</td>\n",
       "    </tr>\n",
       "    <tr>\n",
       "      <th>657</th>\n",
       "      <td>14183192</td>\n",
       "      <td>50</td>\n",
       "      <td>24.440116</td>\n",
       "      <td>0</td>\n",
       "      <td>0</td>\n",
       "      <td>0</td>\n",
       "      <td>0</td>\n",
       "      <td>1</td>\n",
       "      <td>10</td>\n",
       "      <td>2</td>\n",
       "      <td>...</td>\n",
       "      <td>9</td>\n",
       "      <td>9</td>\n",
       "      <td>9</td>\n",
       "      <td>1</td>\n",
       "      <td>9</td>\n",
       "      <td>9</td>\n",
       "      <td>9</td>\n",
       "      <td>0</td>\n",
       "      <td>9</td>\n",
       "      <td>1</td>\n",
       "    </tr>\n",
       "    <tr>\n",
       "      <th>2351</th>\n",
       "      <td>16314070</td>\n",
       "      <td>23</td>\n",
       "      <td>1.926343</td>\n",
       "      <td>0</td>\n",
       "      <td>0</td>\n",
       "      <td>0</td>\n",
       "      <td>0</td>\n",
       "      <td>1</td>\n",
       "      <td>10</td>\n",
       "      <td>1</td>\n",
       "      <td>...</td>\n",
       "      <td>0</td>\n",
       "      <td>9</td>\n",
       "      <td>9</td>\n",
       "      <td>1</td>\n",
       "      <td>9</td>\n",
       "      <td>0</td>\n",
       "      <td>9</td>\n",
       "      <td>9</td>\n",
       "      <td>0</td>\n",
       "      <td>9</td>\n",
       "    </tr>\n",
       "    <tr>\n",
       "      <th>15540</th>\n",
       "      <td>16839777</td>\n",
       "      <td>73</td>\n",
       "      <td>1.811991</td>\n",
       "      <td>0</td>\n",
       "      <td>0</td>\n",
       "      <td>0</td>\n",
       "      <td>0</td>\n",
       "      <td>0</td>\n",
       "      <td>1</td>\n",
       "      <td>3</td>\n",
       "      <td>...</td>\n",
       "      <td>9</td>\n",
       "      <td>9</td>\n",
       "      <td>9</td>\n",
       "      <td>9</td>\n",
       "      <td>9</td>\n",
       "      <td>9</td>\n",
       "      <td>9</td>\n",
       "      <td>1</td>\n",
       "      <td>9</td>\n",
       "      <td>9</td>\n",
       "    </tr>\n",
       "  </tbody>\n",
       "</table>\n",
       "<p>7393 rows × 83 columns</p>\n",
       "</div>"
      ],
      "text/plain": [
       "       subject_id  age        los  CA  DNR  CMO  DNI  female  first_careunit  \\\n",
       "18963    15989658   70   1.083912   0    0    0    0       0               1   \n",
       "11813    12834999   89   1.767269   0    0    0    0       0              10   \n",
       "10510    15196386   37   5.771597   0    0    0    0       0               1   \n",
       "11937    18857859   53   1.334769   0    0    0    0       0               1   \n",
       "11753    17794478   80   1.015104   0    0    0    0       0              10   \n",
       "...           ...  ...        ...  ..  ...  ...  ...     ...             ...   \n",
       "3033     11660627   82   1.800660   0    0    0    0       1               3   \n",
       "4006     14252842   66   6.241771   0    0    0    0       0               1   \n",
       "657      14183192   50  24.440116   0    0    0    0       1              10   \n",
       "2351     16314070   23   1.926343   0    0    0    0       1              10   \n",
       "15540    16839777   73   1.811991   0    0    0    0       0               1   \n",
       "\n",
       "       insurance  ...  Enlarged Cardiomediastinum  Fracture  Lung Lesion  \\\n",
       "18963          3  ...                           4         4            4   \n",
       "11813          3  ...                           4         4            4   \n",
       "10510          2  ...                           4         4            4   \n",
       "11937          1  ...                           4         4            4   \n",
       "11753          3  ...                           4         4            4   \n",
       "...          ...  ...                         ...       ...          ...   \n",
       "3033           3  ...                           9         9            9   \n",
       "4006           3  ...                           4         4            4   \n",
       "657            2  ...                           9         9            9   \n",
       "2351           1  ...                           0         9            9   \n",
       "15540          3  ...                           9         9            9   \n",
       "\n",
       "       Lung Opacity  No Finding  Pleural Effusion  Pleural Other  Pneumonia  \\\n",
       "18963             4           4                 4              4          4   \n",
       "11813             4           4                 4              4          4   \n",
       "10510             4           4                 4              4          4   \n",
       "11937             4           4                 4              4          4   \n",
       "11753             4           4                 4              4          4   \n",
       "...             ...         ...               ...            ...        ...   \n",
       "3033              9           9                 9              9          9   \n",
       "4006              4           4                 4              4          4   \n",
       "657               1           9                 9              9          0   \n",
       "2351              1           9                 0              9          9   \n",
       "15540             9           9                 9              9          1   \n",
       "\n",
       "       Pneumothorax  Support Devices  \n",
       "18963             4                4  \n",
       "11813             4                4  \n",
       "10510             4                4  \n",
       "11937             4                4  \n",
       "11753             4                4  \n",
       "...             ...              ...  \n",
       "3033              9                9  \n",
       "4006              4                4  \n",
       "657               9                1  \n",
       "2351              0                9  \n",
       "15540             9                9  \n",
       "\n",
       "[7393 rows x 83 columns]"
      ]
     },
     "execution_count": 114,
     "metadata": {},
     "output_type": "execute_result"
    }
   ],
   "source": [
    "x_test"
   ]
  },
  {
   "cell_type": "code",
   "execution_count": 115,
   "metadata": {},
   "outputs": [
    {
     "name": "stderr",
     "output_type": "stream",
     "text": [
      "/Library/Frameworks/Python.framework/Versions/3.6/lib/python3.6/site-packages/ipykernel_launcher.py:3: DataConversionWarning: A column-vector y was passed when a 1d array was expected. Please change the shape of y to (n_samples,), for example using ravel().\n",
      "  This is separate from the ipykernel package so we can avoid doing imports until\n"
     ]
    },
    {
     "data": {
      "text/plain": [
       "RandomForestClassifier()"
      ]
     },
     "execution_count": 115,
     "metadata": {},
     "output_type": "execute_result"
    }
   ],
   "source": [
    "from sklearn.ensemble import RandomForestClassifier\n",
    "rf = RandomForestClassifier(n_estimators=100)\n",
    "rf.fit(x_train,y_train)"
   ]
  },
  {
   "cell_type": "code",
   "execution_count": 116,
   "metadata": {},
   "outputs": [],
   "source": [
    "rf_pred = rf.predict(x_test)"
   ]
  },
  {
   "cell_type": "code",
   "execution_count": 117,
   "metadata": {},
   "outputs": [
    {
     "data": {
      "text/plain": [
       "DecisionTreeClassifier(criterion='entropy', max_depth=4, random_state=0)"
      ]
     },
     "execution_count": 117,
     "metadata": {},
     "output_type": "execute_result"
    }
   ],
   "source": [
    "from sklearn.tree import DecisionTreeClassifier\n",
    "dt = DecisionTreeClassifier(criterion = 'entropy', max_depth = 4,random_state=0)\n",
    "dt.fit(x_train,y_train)"
   ]
  },
  {
   "cell_type": "code",
   "execution_count": 118,
   "metadata": {},
   "outputs": [],
   "source": [
    "dt_pred = dt.predict(x_test)"
   ]
  },
  {
   "cell_type": "code",
   "execution_count": 119,
   "metadata": {},
   "outputs": [
    {
     "name": "stdout",
     "output_type": "stream",
     "text": [
      "798\n"
     ]
    }
   ],
   "source": [
    "error=0\n",
    "for i,j in zip(rf_pred,y_test['hospDIED']):\n",
    "    if(i!=j):\n",
    "        error+=1\n",
    "print(error)"
   ]
  },
  {
   "cell_type": "code",
   "execution_count": 120,
   "metadata": {},
   "outputs": [
    {
     "name": "stdout",
     "output_type": "stream",
     "text": [
      "861\n"
     ]
    }
   ],
   "source": [
    "error=0\n",
    "for i,j in zip(dt_pred,y_test['hospDIED']):\n",
    "    if(i!=j):\n",
    "        error+=1\n",
    "print(error)"
   ]
  },
  {
   "cell_type": "code",
   "execution_count": 121,
   "metadata": {},
   "outputs": [
    {
     "name": "stdout",
     "output_type": "stream",
     "text": [
      "Accuracy: 0.8920600568104964\n"
     ]
    }
   ],
   "source": [
    "import sklearn.metrics as metrics\n",
    "print(\"Accuracy:\",metrics.accuracy_score(y_test, rf_pred))"
   ]
  },
  {
   "cell_type": "code",
   "execution_count": 122,
   "metadata": {},
   "outputs": [
    {
     "name": "stdout",
     "output_type": "stream",
     "text": [
      "Accuracy: 0.8835384823481672\n"
     ]
    }
   ],
   "source": [
    "import sklearn.metrics as metrics\n",
    "print(\"Accuracy:\",metrics.accuracy_score(y_test, dt_pred))"
   ]
  },
  {
   "cell_type": "code",
   "execution_count": 123,
   "metadata": {},
   "outputs": [],
   "source": [
    "x_test = pd.read_csv('https://raw.githubusercontent.com/aubreyyy24/HW2_data/main/x_test.csv')\n",
    "x_test = x_test.drop(['indextime'], axis=1)"
   ]
  },
  {
   "cell_type": "code",
   "execution_count": 124,
   "metadata": {},
   "outputs": [],
   "source": [
    "y_pred = dt.predict(x_test)"
   ]
  },
  {
   "cell_type": "code",
   "execution_count": null,
   "metadata": {},
   "outputs": [],
   "source": [
    "from sklearn.tree import export_graphviz\n",
    "from sklearn.externals.six import StringIO  \n",
    "from IPython.display import Image  \n",
    "import pydotplus\n",
    "\n",
    "dot_data = StringIO()\n",
    "export_graphviz(dt, out_file=dot_data,  \n",
    "                filled=True, rounded=True,\n",
    "                special_characters=True,feature_names = x_test.columns,class_names=['0','1'])\n",
    "graph = pydotplus.graph_from_dot_data(dot_data.getvalue())  \n",
    "graph.write_png('106062304_visualization.png')\n",
    "Image(graph.create_png())"
   ]
  },
  {
   "cell_type": "code",
   "execution_count": 125,
   "metadata": {},
   "outputs": [
    {
     "data": {
      "text/plain": [
       "2738"
      ]
     },
     "execution_count": 125,
     "metadata": {},
     "output_type": "execute_result"
    }
   ],
   "source": [
    "len(x_test)"
   ]
  },
  {
   "cell_type": "code",
   "execution_count": 126,
   "metadata": {},
   "outputs": [
    {
     "data": {
      "text/plain": [
       "array([0, 0, 0, ..., 0, 0, 0])"
      ]
     },
     "execution_count": 126,
     "metadata": {},
     "output_type": "execute_result"
    }
   ],
   "source": [
    "y_pred"
   ]
  },
  {
   "cell_type": "markdown",
   "metadata": {
    "id": "zocBlOKdgaO8"
   },
   "source": [
    "To export your predcition as a CSV file and hand in the CSV on elearn"
   ]
  },
  {
   "cell_type": "code",
   "execution_count": 44,
   "metadata": {
    "id": "8YOjsyVmDA1s"
   },
   "outputs": [],
   "source": [
    "output_path = STUDENT_ID + '_prediction.csv'\n",
    "\n",
    "tree_test_pred = pd.DataFrame( {'subject_id': x_test.subject_id,\n",
    "                  'prediction': y_pred } )\n",
    "tree_test_pred.to_csv(output_path, index = False)"
   ]
  },
  {
   "cell_type": "markdown",
   "metadata": {
    "id": "aMh7DF47XV4k"
   },
   "source": [
    "## Visualizing the Decision Tree *(10% bonus)*\n",
    "\n",
    "**Note:** Save the visualization result image as **[STUDENT_ID]_visualization.png**\n",
    "\n",
    "*   Your visualization image of the decision tree can contain **five** layers at most.\n"
   ]
  },
  {
   "cell_type": "code",
   "execution_count": null,
   "metadata": {
    "id": "2tr0cSuooJpc"
   },
   "outputs": [],
   "source": [
    "#Decision Tree Visualization"
   ]
  },
  {
   "cell_type": "markdown",
   "metadata": {
    "id": "JkqzcPNazBKd"
   },
   "source": [
    "# Save the Code File\n",
    "Please save your code and submit it as an ipynb file! (**[STUDENT_ID]_hw2.ipynb**)"
   ]
  }
 ],
 "metadata": {
  "colab": {
   "collapsed_sections": [
    "yEtwmT5QNVLn"
   ],
   "name": "HW2_Decision_Tree.ipynb",
   "provenance": []
  },
  "kernelspec": {
   "display_name": "Python 3",
   "language": "python",
   "name": "python3"
  },
  "language_info": {
   "codemirror_mode": {
    "name": "ipython",
    "version": 3
   },
   "file_extension": ".py",
   "mimetype": "text/x-python",
   "name": "python",
   "nbconvert_exporter": "python",
   "pygments_lexer": "ipython3",
   "version": "3.6.5"
  }
 },
 "nbformat": 4,
 "nbformat_minor": 1
}
