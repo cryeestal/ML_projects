{
 "cells": [
  {
   "cell_type": "code",
   "execution_count": 8,
   "id": "2cadf7e3",
   "metadata": {},
   "outputs": [
    {
     "name": "stdout",
     "output_type": "stream",
     "text": [
      "Unfortunately, you need to work hard on your q table!!! {} 145\n"
     ]
    }
   ],
   "source": [
    "# %load cartpole_qtable_test.py\n",
    "\n",
    "import gym\n",
    "import json\n",
    "import math\n",
    "import numpy as np\n",
    "\n",
    "# Training episode setting\n",
    "EPISODE_LENGTH = 300\n",
    "\n",
    "def get_qtable():\n",
    "    with open('cartpole_qtable.json') as f:\n",
    "        data = json.load(f)\n",
    "\n",
    "    return np.asarray(data['qtable'])\n",
    "\n",
    "def get_buckets():\n",
    "    with open('cartpole_qtable.json') as f:\n",
    "        data = json.load(f)\n",
    "        \n",
    "    return tuple(data['buckets'])\n",
    "\n",
    "def choose_action(state, q_table):\n",
    "    return np.argmax(q_table[state])\n",
    "\n",
    "def get_state(observation, n_buckets, state_bounds):\n",
    "    state = [0] * len(observation)\n",
    "    for i, s in enumerate(observation):\n",
    "        l, u = state_bounds[i][0], state_bounds[i][1] # lower- and upper-bounds for each feature in observation\n",
    "        if s <= l:\n",
    "            state[i] = 0\n",
    "        elif s >= u:\n",
    "            state[i] = n_buckets[i] - 1\n",
    "        else:\n",
    "            state[i] = int(((s - l) / (u - l)) * n_buckets[i])\n",
    "\n",
    "    return tuple(state)\n",
    "\n",
    "# Environment setting\n",
    "env = gym.make('CartPole-v0')\n",
    "\n",
    "n_buckets = get_buckets()     \n",
    "q_table = get_qtable()\n",
    "\n",
    "## state bounds\n",
    "state_bounds = list(zip(env.observation_space.low, env.observation_space.high))\n",
    "state_bounds[1] = [-0.5, 0.5]\n",
    "state_bounds[3] = [-math.radians(50), math.radians(50)]\n",
    "\n",
    "epsilon = 1.0\n",
    "\n",
    "observation = env.reset()   # reset environment to initial state for each episode\n",
    "state = get_state(observation, n_buckets, state_bounds) # turn observation into discrete state\n",
    "\n",
    "for t in range(EPISODE_LENGTH):\n",
    "    env.render()\n",
    "\n",
    "    # Agent takes action\n",
    "    action = choose_action(state, q_table)                      # choose an action based on q_table \n",
    "    observation, reward, done, info = env.step(action)          # do the action, get the reward\n",
    "    state = get_state(observation, n_buckets, state_bounds)\n",
    "\n",
    "    if done:\n",
    "        if t + 1 >= 200:\n",
    "            print('Congradulation, you successfully pass the test!!!')\n",
    "        else:\n",
    "            print('Unfortunately, you need to work hard on your q table!!! {}',format(t + 1))\n",
    "\n",
    "        break\n",
    "\n",
    "env.close() # need to close, or errors will be reported"
   ]
  },
  {
   "cell_type": "code",
   "execution_count": null,
   "id": "8e8eba57",
   "metadata": {},
   "outputs": [],
   "source": []
  }
 ],
 "metadata": {
  "kernelspec": {
   "display_name": "Python 3",
   "language": "python",
   "name": "python3"
  },
  "language_info": {
   "codemirror_mode": {
    "name": "ipython",
    "version": 3
   },
   "file_extension": ".py",
   "mimetype": "text/x-python",
   "name": "python",
   "nbconvert_exporter": "python",
   "pygments_lexer": "ipython3",
   "version": "3.6.5"
  }
 },
 "nbformat": 4,
 "nbformat_minor": 5
}
